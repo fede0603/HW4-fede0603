{
 "cells": [
  {
   "cell_type": "markdown",
   "id": "5fa91d99",
   "metadata": {},
   "source": [
    "# 2. Grouping customers together!"
   ]
  },
  {
   "cell_type": "code",
   "execution_count": 1,
   "id": "2af654d9",
   "metadata": {},
   "outputs": [],
   "source": [
    "import pandas as pd\n",
    "from datetime import datetime\n",
    "import numpy as np"
   ]
  },
  {
   "cell_type": "code",
   "execution_count": 2,
   "id": "c4cfdc2e",
   "metadata": {},
   "outputs": [],
   "source": [
    "data = pd.read_csv(\"bank_transactions.csv\")"
   ]
  },
  {
   "cell_type": "code",
   "execution_count": 76,
   "id": "7644cdf9",
   "metadata": {},
   "outputs": [],
   "source": [
    "data.TransactionDate  = pd.to_datetime(data.TransactionDate)"
   ]
  },
  {
   "cell_type": "code",
   "execution_count": 80,
   "id": "05b7c5cd",
   "metadata": {},
   "outputs": [],
   "source": [
    "def convert_time(value):\n",
    "    sec = str(value % 100)\n",
    "    minutes = str((value //100) %100)\n",
    "    hours = str((value // 10000) %100)\n",
    "    return datetime.strptime(str(hours)+\":\"+str(minutes)+\":\"+str(sec), '%H:%M:%S').time()"
   ]
  },
  {
   "cell_type": "code",
   "execution_count": null,
   "id": "4482acad",
   "metadata": {},
   "outputs": [],
   "source": [
    "data.TransactionTime = data.TransactionTime.apply(lambda row: convert_time(row))"
   ]
  },
  {
   "cell_type": "code",
   "execution_count": 119,
   "id": "45b2b8f8",
   "metadata": {},
   "outputs": [],
   "source": [
    "data.TransactionDate = pd.to_datetime(data.TransactionDate)"
   ]
  },
  {
   "cell_type": "code",
   "execution_count": 120,
   "id": "9363c22b",
   "metadata": {},
   "outputs": [
    {
     "data": {
      "text/html": [
       "<div>\n",
       "<style scoped>\n",
       "    .dataframe tbody tr th:only-of-type {\n",
       "        vertical-align: middle;\n",
       "    }\n",
       "\n",
       "    .dataframe tbody tr th {\n",
       "        vertical-align: top;\n",
       "    }\n",
       "\n",
       "    .dataframe thead th {\n",
       "        text-align: right;\n",
       "    }\n",
       "</style>\n",
       "<table border=\"1\" class=\"dataframe\">\n",
       "  <thead>\n",
       "    <tr style=\"text-align: right;\">\n",
       "      <th></th>\n",
       "      <th>TransactionID</th>\n",
       "      <th>CustomerID</th>\n",
       "      <th>CustomerDOB</th>\n",
       "      <th>CustGender</th>\n",
       "      <th>CustLocation</th>\n",
       "      <th>CustAccountBalance</th>\n",
       "      <th>TransactionDate</th>\n",
       "      <th>TransactionTime</th>\n",
       "      <th>TransactionAmount (INR)</th>\n",
       "      <th>difference</th>\n",
       "      <th>n_significant_transactions</th>\n",
       "      <th>n_normal_transactions</th>\n",
       "      <th>early</th>\n",
       "      <th>late</th>\n",
       "    </tr>\n",
       "  </thead>\n",
       "  <tbody>\n",
       "    <tr>\n",
       "      <th>0</th>\n",
       "      <td>T1</td>\n",
       "      <td>C5841053</td>\n",
       "      <td>10/1/94</td>\n",
       "      <td>F</td>\n",
       "      <td>JAMSHEDPUR</td>\n",
       "      <td>17819.05</td>\n",
       "      <td>2016-02-08</td>\n",
       "      <td>14:32:07</td>\n",
       "      <td>25.0</td>\n",
       "      <td>17794.05</td>\n",
       "      <td>0</td>\n",
       "      <td>1</td>\n",
       "      <td>0</td>\n",
       "      <td>1</td>\n",
       "    </tr>\n",
       "    <tr>\n",
       "      <th>1</th>\n",
       "      <td>T2</td>\n",
       "      <td>C2142763</td>\n",
       "      <td>4/4/57</td>\n",
       "      <td>M</td>\n",
       "      <td>JHAJJAR</td>\n",
       "      <td>2270.69</td>\n",
       "      <td>2016-02-08</td>\n",
       "      <td>14:18:58</td>\n",
       "      <td>27999.0</td>\n",
       "      <td>-25728.31</td>\n",
       "      <td>1</td>\n",
       "      <td>0</td>\n",
       "      <td>0</td>\n",
       "      <td>1</td>\n",
       "    </tr>\n",
       "    <tr>\n",
       "      <th>2</th>\n",
       "      <td>T3</td>\n",
       "      <td>C4417068</td>\n",
       "      <td>26/11/96</td>\n",
       "      <td>F</td>\n",
       "      <td>MUMBAI</td>\n",
       "      <td>17874.44</td>\n",
       "      <td>2016-02-08</td>\n",
       "      <td>14:27:12</td>\n",
       "      <td>459.0</td>\n",
       "      <td>17415.44</td>\n",
       "      <td>0</td>\n",
       "      <td>0</td>\n",
       "      <td>0</td>\n",
       "      <td>1</td>\n",
       "    </tr>\n",
       "    <tr>\n",
       "      <th>3</th>\n",
       "      <td>T4</td>\n",
       "      <td>C5342380</td>\n",
       "      <td>14/9/73</td>\n",
       "      <td>F</td>\n",
       "      <td>MUMBAI</td>\n",
       "      <td>866503.21</td>\n",
       "      <td>2016-02-08</td>\n",
       "      <td>14:27:14</td>\n",
       "      <td>2060.0</td>\n",
       "      <td>864443.21</td>\n",
       "      <td>0</td>\n",
       "      <td>1</td>\n",
       "      <td>0</td>\n",
       "      <td>1</td>\n",
       "    </tr>\n",
       "    <tr>\n",
       "      <th>4</th>\n",
       "      <td>T5</td>\n",
       "      <td>C9031234</td>\n",
       "      <td>24/3/88</td>\n",
       "      <td>F</td>\n",
       "      <td>NAVI MUMBAI</td>\n",
       "      <td>6714.43</td>\n",
       "      <td>2016-02-08</td>\n",
       "      <td>18:11:56</td>\n",
       "      <td>1762.5</td>\n",
       "      <td>4951.93</td>\n",
       "      <td>1</td>\n",
       "      <td>0</td>\n",
       "      <td>0</td>\n",
       "      <td>1</td>\n",
       "    </tr>\n",
       "    <tr>\n",
       "      <th>...</th>\n",
       "      <td>...</td>\n",
       "      <td>...</td>\n",
       "      <td>...</td>\n",
       "      <td>...</td>\n",
       "      <td>...</td>\n",
       "      <td>...</td>\n",
       "      <td>...</td>\n",
       "      <td>...</td>\n",
       "      <td>...</td>\n",
       "      <td>...</td>\n",
       "      <td>...</td>\n",
       "      <td>...</td>\n",
       "      <td>...</td>\n",
       "      <td>...</td>\n",
       "    </tr>\n",
       "    <tr>\n",
       "      <th>1048562</th>\n",
       "      <td>T1048563</td>\n",
       "      <td>C8020229</td>\n",
       "      <td>8/4/90</td>\n",
       "      <td>M</td>\n",
       "      <td>NEW DELHI</td>\n",
       "      <td>7635.19</td>\n",
       "      <td>2016-09-18</td>\n",
       "      <td>18:48:24</td>\n",
       "      <td>799.0</td>\n",
       "      <td>6836.19</td>\n",
       "      <td>1</td>\n",
       "      <td>0</td>\n",
       "      <td>0</td>\n",
       "      <td>1</td>\n",
       "    </tr>\n",
       "    <tr>\n",
       "      <th>1048563</th>\n",
       "      <td>T1048564</td>\n",
       "      <td>C6459278</td>\n",
       "      <td>20/2/92</td>\n",
       "      <td>M</td>\n",
       "      <td>NASHIK</td>\n",
       "      <td>27311.42</td>\n",
       "      <td>2016-09-18</td>\n",
       "      <td>18:37:34</td>\n",
       "      <td>460.0</td>\n",
       "      <td>26851.42</td>\n",
       "      <td>0</td>\n",
       "      <td>0</td>\n",
       "      <td>0</td>\n",
       "      <td>1</td>\n",
       "    </tr>\n",
       "    <tr>\n",
       "      <th>1048564</th>\n",
       "      <td>T1048565</td>\n",
       "      <td>C6412354</td>\n",
       "      <td>18/5/89</td>\n",
       "      <td>M</td>\n",
       "      <td>HYDERABAD</td>\n",
       "      <td>221757.06</td>\n",
       "      <td>2016-09-18</td>\n",
       "      <td>18:33:13</td>\n",
       "      <td>770.0</td>\n",
       "      <td>220987.06</td>\n",
       "      <td>0</td>\n",
       "      <td>1</td>\n",
       "      <td>0</td>\n",
       "      <td>1</td>\n",
       "    </tr>\n",
       "    <tr>\n",
       "      <th>1048565</th>\n",
       "      <td>T1048566</td>\n",
       "      <td>C6420483</td>\n",
       "      <td>30/8/78</td>\n",
       "      <td>M</td>\n",
       "      <td>VISAKHAPATNAM</td>\n",
       "      <td>10117.87</td>\n",
       "      <td>2016-09-18</td>\n",
       "      <td>18:47:06</td>\n",
       "      <td>1000.0</td>\n",
       "      <td>9117.87</td>\n",
       "      <td>0</td>\n",
       "      <td>0</td>\n",
       "      <td>0</td>\n",
       "      <td>1</td>\n",
       "    </tr>\n",
       "    <tr>\n",
       "      <th>1048566</th>\n",
       "      <td>T1048567</td>\n",
       "      <td>C8337524</td>\n",
       "      <td>5/3/84</td>\n",
       "      <td>M</td>\n",
       "      <td>PUNE</td>\n",
       "      <td>75734.42</td>\n",
       "      <td>2016-09-18</td>\n",
       "      <td>18:12:22</td>\n",
       "      <td>1166.0</td>\n",
       "      <td>74568.42</td>\n",
       "      <td>0</td>\n",
       "      <td>0</td>\n",
       "      <td>0</td>\n",
       "      <td>1</td>\n",
       "    </tr>\n",
       "  </tbody>\n",
       "</table>\n",
       "<p>1048567 rows × 14 columns</p>\n",
       "</div>"
      ],
      "text/plain": [
       "        TransactionID CustomerID CustomerDOB CustGender   CustLocation  \\\n",
       "0                  T1   C5841053     10/1/94          F     JAMSHEDPUR   \n",
       "1                  T2   C2142763      4/4/57          M        JHAJJAR   \n",
       "2                  T3   C4417068    26/11/96          F         MUMBAI   \n",
       "3                  T4   C5342380     14/9/73          F         MUMBAI   \n",
       "4                  T5   C9031234     24/3/88          F    NAVI MUMBAI   \n",
       "...               ...        ...         ...        ...            ...   \n",
       "1048562      T1048563   C8020229      8/4/90          M      NEW DELHI   \n",
       "1048563      T1048564   C6459278     20/2/92          M         NASHIK   \n",
       "1048564      T1048565   C6412354     18/5/89          M      HYDERABAD   \n",
       "1048565      T1048566   C6420483     30/8/78          M  VISAKHAPATNAM   \n",
       "1048566      T1048567   C8337524      5/3/84          M           PUNE   \n",
       "\n",
       "         CustAccountBalance TransactionDate TransactionTime  \\\n",
       "0                  17819.05      2016-02-08        14:32:07   \n",
       "1                   2270.69      2016-02-08        14:18:58   \n",
       "2                  17874.44      2016-02-08        14:27:12   \n",
       "3                 866503.21      2016-02-08        14:27:14   \n",
       "4                   6714.43      2016-02-08        18:11:56   \n",
       "...                     ...             ...             ...   \n",
       "1048562             7635.19      2016-09-18        18:48:24   \n",
       "1048563            27311.42      2016-09-18        18:37:34   \n",
       "1048564           221757.06      2016-09-18        18:33:13   \n",
       "1048565            10117.87      2016-09-18        18:47:06   \n",
       "1048566            75734.42      2016-09-18        18:12:22   \n",
       "\n",
       "         TransactionAmount (INR)  difference  n_significant_transactions  \\\n",
       "0                           25.0    17794.05                           0   \n",
       "1                        27999.0   -25728.31                           1   \n",
       "2                          459.0    17415.44                           0   \n",
       "3                         2060.0   864443.21                           0   \n",
       "4                         1762.5     4951.93                           1   \n",
       "...                          ...         ...                         ...   \n",
       "1048562                    799.0     6836.19                           1   \n",
       "1048563                    460.0    26851.42                           0   \n",
       "1048564                    770.0   220987.06                           0   \n",
       "1048565                   1000.0     9117.87                           0   \n",
       "1048566                   1166.0    74568.42                           0   \n",
       "\n",
       "         n_normal_transactions  early  late  \n",
       "0                            1      0     1  \n",
       "1                            0      0     1  \n",
       "2                            0      0     1  \n",
       "3                            1      0     1  \n",
       "4                            0      0     1  \n",
       "...                        ...    ...   ...  \n",
       "1048562                      0      0     1  \n",
       "1048563                      0      0     1  \n",
       "1048564                      1      0     1  \n",
       "1048565                      0      0     1  \n",
       "1048566                      0      0     1  \n",
       "\n",
       "[1048567 rows x 14 columns]"
      ]
     },
     "execution_count": 120,
     "metadata": {},
     "output_type": "execute_result"
    }
   ],
   "source": [
    "data"
   ]
  },
  {
   "cell_type": "markdown",
   "id": "739b74a7",
   "metadata": {},
   "source": [
    "The 7 features recommended in the homework are the following:\n",
    "\n",
    "a) Number of transactions: *n_transactions*\n",
    "\n",
    "b) Number of transactions with a balance bigger than 100 USD: *n_transactions_100*\n",
    "\n",
    "c) Average amount of the transactions: *average_amount*\n",
    "\n",
    "d) Average balance: *average_balance*\n",
    "\n",
    "e) Average difference between the balance and the transaction amount for each customer (this is mainly known in the banking world as utilisation): *utilisation*\n",
    "\n",
    "f) Most common gender of the customer: *common_gender*\n",
    "\n",
    "h) Most frequent location of the customer: *frequent_location*"
   ]
  },
  {
   "cell_type": "markdown",
   "id": "6770df5c",
   "metadata": {},
   "source": [
    "### 2.1 Getting your data + feature engineering"
   ]
  },
  {
   "cell_type": "code",
   "execution_count": 4,
   "id": "9b11b00c",
   "metadata": {},
   "outputs": [],
   "source": [
    "transactions = data.groupby(['CustomerID'])['CustomerID'].count().reset_index(name='n_transactions')"
   ]
  },
  {
   "cell_type": "code",
   "execution_count": 5,
   "id": "bf07c5f8",
   "metadata": {},
   "outputs": [],
   "source": [
    "trans_100 = data.groupby(['CustomerID'])[\"TransactionAmount (INR)\"].apply(lambda x: (x>100).sum()).reset_index(name='n_transactions_100')"
   ]
  },
  {
   "cell_type": "code",
   "execution_count": 6,
   "id": "645333d1",
   "metadata": {},
   "outputs": [],
   "source": [
    "features = pd.merge(transactions,trans_100, on=\"CustomerID\")"
   ]
  },
  {
   "cell_type": "code",
   "execution_count": 7,
   "id": "ae5bf66a",
   "metadata": {},
   "outputs": [],
   "source": [
    "amount= data.groupby(['CustomerID'])[\"TransactionAmount (INR)\"].mean().reset_index(name='average_amount')"
   ]
  },
  {
   "cell_type": "code",
   "execution_count": 8,
   "id": "5ec2f0d2",
   "metadata": {},
   "outputs": [],
   "source": [
    "features = pd.merge(features,amount, on=\"CustomerID\")"
   ]
  },
  {
   "cell_type": "code",
   "execution_count": 9,
   "id": "9825ece3",
   "metadata": {},
   "outputs": [],
   "source": [
    "av_balance= data.groupby(['CustomerID'])[\"CustAccountBalance\"].mean().reset_index(name='average_balance')"
   ]
  },
  {
   "cell_type": "code",
   "execution_count": 10,
   "id": "997e775a",
   "metadata": {},
   "outputs": [],
   "source": [
    "features = pd.merge(features, av_balance, on=\"CustomerID\")"
   ]
  },
  {
   "cell_type": "code",
   "execution_count": 11,
   "id": "a6909229",
   "metadata": {},
   "outputs": [],
   "source": [
    "data['difference'] = data[\"CustAccountBalance\"] - data[\"TransactionAmount (INR)\"]"
   ]
  },
  {
   "cell_type": "code",
   "execution_count": 12,
   "id": "1a0496f6",
   "metadata": {},
   "outputs": [],
   "source": [
    "utilisation = data.groupby([\"CustomerID\"])[\"difference\"].mean().reset_index(name='utilisation')"
   ]
  },
  {
   "cell_type": "code",
   "execution_count": 13,
   "id": "2eabfb49",
   "metadata": {},
   "outputs": [],
   "source": [
    "features = pd.merge(features, utilisation, on=\"CustomerID\")"
   ]
  },
  {
   "cell_type": "code",
   "execution_count": 14,
   "id": "fcd2d84a",
   "metadata": {},
   "outputs": [],
   "source": [
    "gender= data.groupby(['CustomerID'])['CustGender'].agg(pd.Series.mode).reset_index(name='common_gender')"
   ]
  },
  {
   "cell_type": "code",
   "execution_count": 15,
   "id": "3e0dd654",
   "metadata": {},
   "outputs": [],
   "source": [
    "features = pd.merge(features,gender, on=\"CustomerID\")"
   ]
  },
  {
   "cell_type": "code",
   "execution_count": 16,
   "id": "37481c71",
   "metadata": {},
   "outputs": [],
   "source": [
    "freq_location= data.groupby(['CustomerID'])['CustLocation'].agg(pd.Series.mode).reset_index(name='frequent_location')"
   ]
  },
  {
   "cell_type": "code",
   "execution_count": 17,
   "id": "f5f21c4c",
   "metadata": {},
   "outputs": [],
   "source": [
    "features = pd.merge(features,freq_location, on=\"CustomerID\")"
   ]
  },
  {
   "cell_type": "code",
   "execution_count": 18,
   "id": "06a5d0d8",
   "metadata": {},
   "outputs": [
    {
     "data": {
      "text/html": [
       "<div>\n",
       "<style scoped>\n",
       "    .dataframe tbody tr th:only-of-type {\n",
       "        vertical-align: middle;\n",
       "    }\n",
       "\n",
       "    .dataframe tbody tr th {\n",
       "        vertical-align: top;\n",
       "    }\n",
       "\n",
       "    .dataframe thead th {\n",
       "        text-align: right;\n",
       "    }\n",
       "</style>\n",
       "<table border=\"1\" class=\"dataframe\">\n",
       "  <thead>\n",
       "    <tr style=\"text-align: right;\">\n",
       "      <th></th>\n",
       "      <th>CustomerID</th>\n",
       "      <th>n_transactions</th>\n",
       "      <th>n_transactions_100</th>\n",
       "      <th>average_amount</th>\n",
       "      <th>average_balance</th>\n",
       "      <th>utilisation</th>\n",
       "      <th>common_gender</th>\n",
       "      <th>frequent_location</th>\n",
       "    </tr>\n",
       "  </thead>\n",
       "  <tbody>\n",
       "    <tr>\n",
       "      <th>0</th>\n",
       "      <td>C1010011</td>\n",
       "      <td>2</td>\n",
       "      <td>2</td>\n",
       "      <td>2553.0</td>\n",
       "      <td>76340.635</td>\n",
       "      <td>73787.635</td>\n",
       "      <td>[F, M]</td>\n",
       "      <td>[NEW DELHI, NOIDA]</td>\n",
       "    </tr>\n",
       "    <tr>\n",
       "      <th>1</th>\n",
       "      <td>C1010012</td>\n",
       "      <td>1</td>\n",
       "      <td>1</td>\n",
       "      <td>1499.0</td>\n",
       "      <td>24204.490</td>\n",
       "      <td>22705.490</td>\n",
       "      <td>M</td>\n",
       "      <td>MUMBAI</td>\n",
       "    </tr>\n",
       "    <tr>\n",
       "      <th>2</th>\n",
       "      <td>C1010014</td>\n",
       "      <td>2</td>\n",
       "      <td>2</td>\n",
       "      <td>727.5</td>\n",
       "      <td>100112.950</td>\n",
       "      <td>99385.450</td>\n",
       "      <td>[F, M]</td>\n",
       "      <td>MUMBAI</td>\n",
       "    </tr>\n",
       "    <tr>\n",
       "      <th>3</th>\n",
       "      <td>C1010018</td>\n",
       "      <td>1</td>\n",
       "      <td>0</td>\n",
       "      <td>30.0</td>\n",
       "      <td>496.180</td>\n",
       "      <td>466.180</td>\n",
       "      <td>F</td>\n",
       "      <td>CHAMPARAN</td>\n",
       "    </tr>\n",
       "    <tr>\n",
       "      <th>4</th>\n",
       "      <td>C1010024</td>\n",
       "      <td>1</td>\n",
       "      <td>1</td>\n",
       "      <td>5000.0</td>\n",
       "      <td>87058.650</td>\n",
       "      <td>82058.650</td>\n",
       "      <td>M</td>\n",
       "      <td>KOLKATA</td>\n",
       "    </tr>\n",
       "    <tr>\n",
       "      <th>...</th>\n",
       "      <td>...</td>\n",
       "      <td>...</td>\n",
       "      <td>...</td>\n",
       "      <td>...</td>\n",
       "      <td>...</td>\n",
       "      <td>...</td>\n",
       "      <td>...</td>\n",
       "      <td>...</td>\n",
       "    </tr>\n",
       "    <tr>\n",
       "      <th>884260</th>\n",
       "      <td>C9099836</td>\n",
       "      <td>1</td>\n",
       "      <td>1</td>\n",
       "      <td>691.0</td>\n",
       "      <td>133067.230</td>\n",
       "      <td>132376.230</td>\n",
       "      <td>M</td>\n",
       "      <td>BHIWANDI</td>\n",
       "    </tr>\n",
       "    <tr>\n",
       "      <th>884261</th>\n",
       "      <td>C9099877</td>\n",
       "      <td>1</td>\n",
       "      <td>1</td>\n",
       "      <td>222.0</td>\n",
       "      <td>96063.460</td>\n",
       "      <td>95841.460</td>\n",
       "      <td>M</td>\n",
       "      <td>BANGALORE</td>\n",
       "    </tr>\n",
       "    <tr>\n",
       "      <th>884262</th>\n",
       "      <td>C9099919</td>\n",
       "      <td>1</td>\n",
       "      <td>1</td>\n",
       "      <td>126.0</td>\n",
       "      <td>5559.750</td>\n",
       "      <td>5433.750</td>\n",
       "      <td>M</td>\n",
       "      <td>GUNTUR</td>\n",
       "    </tr>\n",
       "    <tr>\n",
       "      <th>884263</th>\n",
       "      <td>C9099941</td>\n",
       "      <td>1</td>\n",
       "      <td>0</td>\n",
       "      <td>50.0</td>\n",
       "      <td>35295.920</td>\n",
       "      <td>35245.920</td>\n",
       "      <td>M</td>\n",
       "      <td>CHENNAI</td>\n",
       "    </tr>\n",
       "    <tr>\n",
       "      <th>884264</th>\n",
       "      <td>C9099956</td>\n",
       "      <td>1</td>\n",
       "      <td>1</td>\n",
       "      <td>855.0</td>\n",
       "      <td>6968.930</td>\n",
       "      <td>6113.930</td>\n",
       "      <td>M</td>\n",
       "      <td>MUSSOORIE</td>\n",
       "    </tr>\n",
       "  </tbody>\n",
       "</table>\n",
       "<p>884265 rows × 8 columns</p>\n",
       "</div>"
      ],
      "text/plain": [
       "       CustomerID  n_transactions  n_transactions_100  average_amount  \\\n",
       "0        C1010011               2                   2          2553.0   \n",
       "1        C1010012               1                   1          1499.0   \n",
       "2        C1010014               2                   2           727.5   \n",
       "3        C1010018               1                   0            30.0   \n",
       "4        C1010024               1                   1          5000.0   \n",
       "...           ...             ...                 ...             ...   \n",
       "884260   C9099836               1                   1           691.0   \n",
       "884261   C9099877               1                   1           222.0   \n",
       "884262   C9099919               1                   1           126.0   \n",
       "884263   C9099941               1                   0            50.0   \n",
       "884264   C9099956               1                   1           855.0   \n",
       "\n",
       "        average_balance  utilisation common_gender   frequent_location  \n",
       "0             76340.635    73787.635        [F, M]  [NEW DELHI, NOIDA]  \n",
       "1             24204.490    22705.490             M              MUMBAI  \n",
       "2            100112.950    99385.450        [F, M]              MUMBAI  \n",
       "3               496.180      466.180             F           CHAMPARAN  \n",
       "4             87058.650    82058.650             M             KOLKATA  \n",
       "...                 ...          ...           ...                 ...  \n",
       "884260       133067.230   132376.230             M            BHIWANDI  \n",
       "884261        96063.460    95841.460             M           BANGALORE  \n",
       "884262         5559.750     5433.750             M              GUNTUR  \n",
       "884263        35295.920    35245.920             M             CHENNAI  \n",
       "884264         6968.930     6113.930             M           MUSSOORIE  \n",
       "\n",
       "[884265 rows x 8 columns]"
      ]
     },
     "execution_count": 18,
     "metadata": {},
     "output_type": "execute_result"
    }
   ],
   "source": [
    "features"
   ]
  },
  {
   "cell_type": "markdown",
   "id": "82458622",
   "metadata": {},
   "source": [
    "## Consider at least 20 additional features that can be generated for each CustomerId. Describe each of them and why you believe they will be helpful. Moreover, add it to the previous dataset (the one with seven features). In the end, you should have for each CustomerID at least 27 features (7 recommended + 20 suggested by you)."
   ]
  },
  {
   "cell_type": "markdown",
   "id": "e4278884",
   "metadata": {},
   "source": [
    "The following features are 20 additional features that can be generated for each CustomerId:\n",
    "\n",
    "1) The minimum TransactionAmount (INR): *min_trans*\n",
    "\n",
    "2) The maximum TransactionAmount (INR): *max_trans*\n",
    "\n",
    "3) The minimum CustAccountBalance: *min_accountbalance*\n",
    "\n",
    "4) The maximum CustAccountBalance: *max_accountbalance*\n",
    "\n",
    "5) Number of CustAccountBalance with an overall higher than 50000 USD: *account_balance_sup50k*\n",
    "\n",
    "6) Number of CustAccountBalance with an overall lower than 10000 USD: *account_balance_low10k*\n",
    "\n",
    "7) The earlier TransactionTime: *earlier_TransactionTime*\n",
    "\n",
    "8) The latest TransactionTime: *latest_TransactionTime*\n",
    "\n",
    "9) Amount of the average amount of the transaction on the average account balance: *percentage_of_expenditure*\n",
    "\n",
    "10) Number of transactions (per person) with a percentage of expenditure greater or equal to 10%: *n_significant_transactions*\n",
    "\n",
    "11) Number of transaction (per person) with a percentage of expenditure lower or equal to 1%: *n_normal_transactions*\n",
    "\n",
    "12) Account balance range: *acc_bal_range*\n",
    "\n",
    "13) Utilisation on average account balance: *percent_availability*\n",
    "\n",
    "14) Number of transactions in the first half of the day\n",
    "\n",
    "15) Number of transactions in the second half of the day\n",
    "\n",
    "16) Number of transactions in the first half of the year\n",
    "\n",
    "17) Number of transactions in the second half of the year\n",
    "\n",
    "18) TransactionAmount (INR) median\n",
    "\n",
    "19) TransactionAmount (INR) first quartile\n",
    "\n",
    "20) TransactionAmount (INR) third quartile"
   ]
  },
  {
   "cell_type": "markdown",
   "id": "f26c163d",
   "metadata": {},
   "source": [
    "### Minimum and maximum TransactionAmount (INR)"
   ]
  },
  {
   "cell_type": "code",
   "execution_count": 19,
   "id": "46e9c22d",
   "metadata": {},
   "outputs": [],
   "source": [
    "min_trans= data.groupby(['CustomerID'])[\"TransactionAmount (INR)\"].min().reset_index(name='min_trans')"
   ]
  },
  {
   "cell_type": "code",
   "execution_count": 20,
   "id": "7c5af402",
   "metadata": {},
   "outputs": [],
   "source": [
    "features = pd.merge(features,min_trans, on=\"CustomerID\")"
   ]
  },
  {
   "cell_type": "code",
   "execution_count": 21,
   "id": "d52197b4",
   "metadata": {},
   "outputs": [],
   "source": [
    "max_trans= data.groupby(['CustomerID'])[\"TransactionAmount (INR)\"].max().reset_index(name='max_trans')"
   ]
  },
  {
   "cell_type": "code",
   "execution_count": 22,
   "id": "69cda669",
   "metadata": {},
   "outputs": [],
   "source": [
    "features = pd.merge(features, max_trans, on=\"CustomerID\")"
   ]
  },
  {
   "cell_type": "markdown",
   "id": "2e5ff4b4",
   "metadata": {},
   "source": [
    "### Minimum and Maximum CustAccountBalance"
   ]
  },
  {
   "cell_type": "code",
   "execution_count": 23,
   "id": "e115f74f",
   "metadata": {},
   "outputs": [],
   "source": [
    "min_account= data.groupby(['CustomerID'])[\"CustAccountBalance\"].min().reset_index(name='min_accountbalance')"
   ]
  },
  {
   "cell_type": "code",
   "execution_count": 24,
   "id": "96fcbfa9",
   "metadata": {},
   "outputs": [],
   "source": [
    "features = pd.merge(features, min_account, on=\"CustomerID\")"
   ]
  },
  {
   "cell_type": "code",
   "execution_count": 25,
   "id": "4722219a",
   "metadata": {},
   "outputs": [],
   "source": [
    "max_account= data.groupby(['CustomerID'])[\"CustAccountBalance\"].max().reset_index(name='max_accountbalance')"
   ]
  },
  {
   "cell_type": "code",
   "execution_count": 26,
   "id": "fabf992a",
   "metadata": {},
   "outputs": [],
   "source": [
    "features = pd.merge(features, max_account, on=\"CustomerID\")"
   ]
  },
  {
   "cell_type": "markdown",
   "id": "57afda1e",
   "metadata": {},
   "source": [
    "### Number of CustAccountBalance with an overall higher than 50000 USD: *account_balance_sup50k*"
   ]
  },
  {
   "cell_type": "code",
   "execution_count": 27,
   "id": "d39cc202",
   "metadata": {},
   "outputs": [],
   "source": [
    "account_balance_sup500k = data.groupby(['CustomerID'])[\"CustAccountBalance\"].apply(lambda x: (x>50000).sum()).reset_index(name='account_balance_sup50k')"
   ]
  },
  {
   "cell_type": "code",
   "execution_count": 28,
   "id": "cbf21fa8",
   "metadata": {},
   "outputs": [],
   "source": [
    "features = pd.merge(features, account_balance_sup500k, on=\"CustomerID\")"
   ]
  },
  {
   "cell_type": "markdown",
   "id": "a09592a7",
   "metadata": {},
   "source": [
    "### Number of CustAccountBalance with an overall lower than 10000 USD: *account_balance_low10k*"
   ]
  },
  {
   "cell_type": "code",
   "execution_count": 29,
   "id": "a551c667",
   "metadata": {},
   "outputs": [],
   "source": [
    "account_balance_low10k = data.groupby(['CustomerID'])[\"CustAccountBalance\"].apply(lambda x: (x<10000).sum()).reset_index(name='account_balance_low10k')"
   ]
  },
  {
   "cell_type": "code",
   "execution_count": 30,
   "id": "cec9816c",
   "metadata": {},
   "outputs": [],
   "source": [
    "features = pd.merge(features, account_balance_low10k, on=\"CustomerID\")"
   ]
  },
  {
   "cell_type": "markdown",
   "id": "969c0809",
   "metadata": {},
   "source": [
    "### Earliest and latest TransactionTime"
   ]
  },
  {
   "cell_type": "code",
   "execution_count": 87,
   "id": "8fe7c938",
   "metadata": {},
   "outputs": [],
   "source": [
    "earliest_TransactionTime= data.groupby(['CustomerID'])[\"TransactionTime\"].min().reset_index(name='earliest_TransactionTime')"
   ]
  },
  {
   "cell_type": "code",
   "execution_count": 88,
   "id": "cfd700de",
   "metadata": {},
   "outputs": [],
   "source": [
    "features = pd.merge(features, earliest_TransactionTime, on=\"CustomerID\")"
   ]
  },
  {
   "cell_type": "code",
   "execution_count": 89,
   "id": "f4ecdb3b",
   "metadata": {},
   "outputs": [],
   "source": [
    "latest_TransactionTime= data.groupby(['CustomerID'])[\"TransactionTime\"].max().reset_index(name='latest_TransactionTime')"
   ]
  },
  {
   "cell_type": "code",
   "execution_count": 90,
   "id": "07e95b1b",
   "metadata": {},
   "outputs": [],
   "source": [
    "features = pd.merge(features, latest_TransactionTime, on=\"CustomerID\")"
   ]
  },
  {
   "cell_type": "markdown",
   "id": "bafec8b3",
   "metadata": {},
   "source": [
    "### Amount of the average amount of the transaction on the average account balance: *percentage_of_expenditure*"
   ]
  },
  {
   "cell_type": "code",
   "execution_count": 37,
   "id": "3133ad98",
   "metadata": {},
   "outputs": [],
   "source": [
    "features['percentage_of_expenditure']=round((features['average_amount']/features['average_balance'])*100, 2)"
   ]
  },
  {
   "cell_type": "code",
   "execution_count": 38,
   "id": "30b76742",
   "metadata": {},
   "outputs": [
    {
     "data": {
      "text/html": [
       "<div>\n",
       "<style scoped>\n",
       "    .dataframe tbody tr th:only-of-type {\n",
       "        vertical-align: middle;\n",
       "    }\n",
       "\n",
       "    .dataframe tbody tr th {\n",
       "        vertical-align: top;\n",
       "    }\n",
       "\n",
       "    .dataframe thead th {\n",
       "        text-align: right;\n",
       "    }\n",
       "</style>\n",
       "<table border=\"1\" class=\"dataframe\">\n",
       "  <thead>\n",
       "    <tr style=\"text-align: right;\">\n",
       "      <th></th>\n",
       "      <th>CustomerID</th>\n",
       "      <th>n_transactions</th>\n",
       "      <th>n_transactions_100</th>\n",
       "      <th>average_amount</th>\n",
       "      <th>average_balance</th>\n",
       "      <th>utilisation</th>\n",
       "      <th>common_gender</th>\n",
       "      <th>frequent_location</th>\n",
       "      <th>min_trans</th>\n",
       "      <th>max_trans</th>\n",
       "      <th>min_accountbalance</th>\n",
       "      <th>max_accountbalance</th>\n",
       "      <th>account_balance_sup50k</th>\n",
       "      <th>account_balance_low10k</th>\n",
       "      <th>earliest_TransactionTime</th>\n",
       "      <th>latest_TransactionTime</th>\n",
       "      <th>percentage_of_expenditure</th>\n",
       "    </tr>\n",
       "  </thead>\n",
       "  <tbody>\n",
       "    <tr>\n",
       "      <th>0</th>\n",
       "      <td>C1010011</td>\n",
       "      <td>2</td>\n",
       "      <td>2</td>\n",
       "      <td>2553.0</td>\n",
       "      <td>76340.635</td>\n",
       "      <td>73787.635</td>\n",
       "      <td>[F, M]</td>\n",
       "      <td>[NEW DELHI, NOIDA]</td>\n",
       "      <td>356.0</td>\n",
       "      <td>4750.0</td>\n",
       "      <td>32500.73</td>\n",
       "      <td>120180.54</td>\n",
       "      <td>1</td>\n",
       "      <td>0</td>\n",
       "      <td>11229</td>\n",
       "      <td>123813</td>\n",
       "      <td>3.34</td>\n",
       "    </tr>\n",
       "    <tr>\n",
       "      <th>1</th>\n",
       "      <td>C1010012</td>\n",
       "      <td>1</td>\n",
       "      <td>1</td>\n",
       "      <td>1499.0</td>\n",
       "      <td>24204.490</td>\n",
       "      <td>22705.490</td>\n",
       "      <td>M</td>\n",
       "      <td>MUMBAI</td>\n",
       "      <td>1499.0</td>\n",
       "      <td>1499.0</td>\n",
       "      <td>24204.49</td>\n",
       "      <td>24204.49</td>\n",
       "      <td>0</td>\n",
       "      <td>0</td>\n",
       "      <td>204409</td>\n",
       "      <td>204409</td>\n",
       "      <td>6.19</td>\n",
       "    </tr>\n",
       "    <tr>\n",
       "      <th>2</th>\n",
       "      <td>C1010014</td>\n",
       "      <td>2</td>\n",
       "      <td>2</td>\n",
       "      <td>727.5</td>\n",
       "      <td>100112.950</td>\n",
       "      <td>99385.450</td>\n",
       "      <td>[F, M]</td>\n",
       "      <td>MUMBAI</td>\n",
       "      <td>250.0</td>\n",
       "      <td>1205.0</td>\n",
       "      <td>38377.14</td>\n",
       "      <td>161848.76</td>\n",
       "      <td>1</td>\n",
       "      <td>0</td>\n",
       "      <td>154451</td>\n",
       "      <td>220305</td>\n",
       "      <td>0.73</td>\n",
       "    </tr>\n",
       "    <tr>\n",
       "      <th>3</th>\n",
       "      <td>C1010018</td>\n",
       "      <td>1</td>\n",
       "      <td>0</td>\n",
       "      <td>30.0</td>\n",
       "      <td>496.180</td>\n",
       "      <td>466.180</td>\n",
       "      <td>F</td>\n",
       "      <td>CHAMPARAN</td>\n",
       "      <td>30.0</td>\n",
       "      <td>30.0</td>\n",
       "      <td>496.18</td>\n",
       "      <td>496.18</td>\n",
       "      <td>0</td>\n",
       "      <td>1</td>\n",
       "      <td>170254</td>\n",
       "      <td>170254</td>\n",
       "      <td>6.05</td>\n",
       "    </tr>\n",
       "    <tr>\n",
       "      <th>4</th>\n",
       "      <td>C1010024</td>\n",
       "      <td>1</td>\n",
       "      <td>1</td>\n",
       "      <td>5000.0</td>\n",
       "      <td>87058.650</td>\n",
       "      <td>82058.650</td>\n",
       "      <td>M</td>\n",
       "      <td>KOLKATA</td>\n",
       "      <td>5000.0</td>\n",
       "      <td>5000.0</td>\n",
       "      <td>87058.65</td>\n",
       "      <td>87058.65</td>\n",
       "      <td>1</td>\n",
       "      <td>0</td>\n",
       "      <td>141103</td>\n",
       "      <td>141103</td>\n",
       "      <td>5.74</td>\n",
       "    </tr>\n",
       "    <tr>\n",
       "      <th>...</th>\n",
       "      <td>...</td>\n",
       "      <td>...</td>\n",
       "      <td>...</td>\n",
       "      <td>...</td>\n",
       "      <td>...</td>\n",
       "      <td>...</td>\n",
       "      <td>...</td>\n",
       "      <td>...</td>\n",
       "      <td>...</td>\n",
       "      <td>...</td>\n",
       "      <td>...</td>\n",
       "      <td>...</td>\n",
       "      <td>...</td>\n",
       "      <td>...</td>\n",
       "      <td>...</td>\n",
       "      <td>...</td>\n",
       "      <td>...</td>\n",
       "    </tr>\n",
       "    <tr>\n",
       "      <th>884260</th>\n",
       "      <td>C9099836</td>\n",
       "      <td>1</td>\n",
       "      <td>1</td>\n",
       "      <td>691.0</td>\n",
       "      <td>133067.230</td>\n",
       "      <td>132376.230</td>\n",
       "      <td>M</td>\n",
       "      <td>BHIWANDI</td>\n",
       "      <td>691.0</td>\n",
       "      <td>691.0</td>\n",
       "      <td>133067.23</td>\n",
       "      <td>133067.23</td>\n",
       "      <td>1</td>\n",
       "      <td>0</td>\n",
       "      <td>5122</td>\n",
       "      <td>5122</td>\n",
       "      <td>0.52</td>\n",
       "    </tr>\n",
       "    <tr>\n",
       "      <th>884261</th>\n",
       "      <td>C9099877</td>\n",
       "      <td>1</td>\n",
       "      <td>1</td>\n",
       "      <td>222.0</td>\n",
       "      <td>96063.460</td>\n",
       "      <td>95841.460</td>\n",
       "      <td>M</td>\n",
       "      <td>BANGALORE</td>\n",
       "      <td>222.0</td>\n",
       "      <td>222.0</td>\n",
       "      <td>96063.46</td>\n",
       "      <td>96063.46</td>\n",
       "      <td>1</td>\n",
       "      <td>0</td>\n",
       "      <td>120255</td>\n",
       "      <td>120255</td>\n",
       "      <td>0.23</td>\n",
       "    </tr>\n",
       "    <tr>\n",
       "      <th>884262</th>\n",
       "      <td>C9099919</td>\n",
       "      <td>1</td>\n",
       "      <td>1</td>\n",
       "      <td>126.0</td>\n",
       "      <td>5559.750</td>\n",
       "      <td>5433.750</td>\n",
       "      <td>M</td>\n",
       "      <td>GUNTUR</td>\n",
       "      <td>126.0</td>\n",
       "      <td>126.0</td>\n",
       "      <td>5559.75</td>\n",
       "      <td>5559.75</td>\n",
       "      <td>0</td>\n",
       "      <td>1</td>\n",
       "      <td>122533</td>\n",
       "      <td>122533</td>\n",
       "      <td>2.27</td>\n",
       "    </tr>\n",
       "    <tr>\n",
       "      <th>884263</th>\n",
       "      <td>C9099941</td>\n",
       "      <td>1</td>\n",
       "      <td>0</td>\n",
       "      <td>50.0</td>\n",
       "      <td>35295.920</td>\n",
       "      <td>35245.920</td>\n",
       "      <td>M</td>\n",
       "      <td>CHENNAI</td>\n",
       "      <td>50.0</td>\n",
       "      <td>50.0</td>\n",
       "      <td>35295.92</td>\n",
       "      <td>35295.92</td>\n",
       "      <td>0</td>\n",
       "      <td>0</td>\n",
       "      <td>213722</td>\n",
       "      <td>213722</td>\n",
       "      <td>0.14</td>\n",
       "    </tr>\n",
       "    <tr>\n",
       "      <th>884264</th>\n",
       "      <td>C9099956</td>\n",
       "      <td>1</td>\n",
       "      <td>1</td>\n",
       "      <td>855.0</td>\n",
       "      <td>6968.930</td>\n",
       "      <td>6113.930</td>\n",
       "      <td>M</td>\n",
       "      <td>MUSSOORIE</td>\n",
       "      <td>855.0</td>\n",
       "      <td>855.0</td>\n",
       "      <td>6968.93</td>\n",
       "      <td>6968.93</td>\n",
       "      <td>0</td>\n",
       "      <td>1</td>\n",
       "      <td>225732</td>\n",
       "      <td>225732</td>\n",
       "      <td>12.27</td>\n",
       "    </tr>\n",
       "  </tbody>\n",
       "</table>\n",
       "<p>884265 rows × 17 columns</p>\n",
       "</div>"
      ],
      "text/plain": [
       "       CustomerID  n_transactions  n_transactions_100  average_amount  \\\n",
       "0        C1010011               2                   2          2553.0   \n",
       "1        C1010012               1                   1          1499.0   \n",
       "2        C1010014               2                   2           727.5   \n",
       "3        C1010018               1                   0            30.0   \n",
       "4        C1010024               1                   1          5000.0   \n",
       "...           ...             ...                 ...             ...   \n",
       "884260   C9099836               1                   1           691.0   \n",
       "884261   C9099877               1                   1           222.0   \n",
       "884262   C9099919               1                   1           126.0   \n",
       "884263   C9099941               1                   0            50.0   \n",
       "884264   C9099956               1                   1           855.0   \n",
       "\n",
       "        average_balance  utilisation common_gender   frequent_location  \\\n",
       "0             76340.635    73787.635        [F, M]  [NEW DELHI, NOIDA]   \n",
       "1             24204.490    22705.490             M              MUMBAI   \n",
       "2            100112.950    99385.450        [F, M]              MUMBAI   \n",
       "3               496.180      466.180             F           CHAMPARAN   \n",
       "4             87058.650    82058.650             M             KOLKATA   \n",
       "...                 ...          ...           ...                 ...   \n",
       "884260       133067.230   132376.230             M            BHIWANDI   \n",
       "884261        96063.460    95841.460             M           BANGALORE   \n",
       "884262         5559.750     5433.750             M              GUNTUR   \n",
       "884263        35295.920    35245.920             M             CHENNAI   \n",
       "884264         6968.930     6113.930             M           MUSSOORIE   \n",
       "\n",
       "        min_trans  max_trans  min_accountbalance  max_accountbalance  \\\n",
       "0           356.0     4750.0            32500.73           120180.54   \n",
       "1          1499.0     1499.0            24204.49            24204.49   \n",
       "2           250.0     1205.0            38377.14           161848.76   \n",
       "3            30.0       30.0              496.18              496.18   \n",
       "4          5000.0     5000.0            87058.65            87058.65   \n",
       "...           ...        ...                 ...                 ...   \n",
       "884260      691.0      691.0           133067.23           133067.23   \n",
       "884261      222.0      222.0            96063.46            96063.46   \n",
       "884262      126.0      126.0             5559.75             5559.75   \n",
       "884263       50.0       50.0            35295.92            35295.92   \n",
       "884264      855.0      855.0             6968.93             6968.93   \n",
       "\n",
       "        account_balance_sup50k  account_balance_low10k  \\\n",
       "0                            1                       0   \n",
       "1                            0                       0   \n",
       "2                            1                       0   \n",
       "3                            0                       1   \n",
       "4                            1                       0   \n",
       "...                        ...                     ...   \n",
       "884260                       1                       0   \n",
       "884261                       1                       0   \n",
       "884262                       0                       1   \n",
       "884263                       0                       0   \n",
       "884264                       0                       1   \n",
       "\n",
       "        earliest_TransactionTime  latest_TransactionTime  \\\n",
       "0                          11229                  123813   \n",
       "1                         204409                  204409   \n",
       "2                         154451                  220305   \n",
       "3                         170254                  170254   \n",
       "4                         141103                  141103   \n",
       "...                          ...                     ...   \n",
       "884260                      5122                    5122   \n",
       "884261                    120255                  120255   \n",
       "884262                    122533                  122533   \n",
       "884263                    213722                  213722   \n",
       "884264                    225732                  225732   \n",
       "\n",
       "        percentage_of_expenditure  \n",
       "0                            3.34  \n",
       "1                            6.19  \n",
       "2                            0.73  \n",
       "3                            6.05  \n",
       "4                            5.74  \n",
       "...                           ...  \n",
       "884260                       0.52  \n",
       "884261                       0.23  \n",
       "884262                       2.27  \n",
       "884263                       0.14  \n",
       "884264                      12.27  \n",
       "\n",
       "[884265 rows x 17 columns]"
      ]
     },
     "execution_count": 38,
     "metadata": {},
     "output_type": "execute_result"
    }
   ],
   "source": [
    "features"
   ]
  },
  {
   "cell_type": "markdown",
   "id": "634cf98e",
   "metadata": {},
   "source": [
    "### Number of transactions (per person) with a percentage of expenditure greater or equal to 10%: n_significant_transactions"
   ]
  },
  {
   "cell_type": "code",
   "execution_count": 40,
   "id": "ed34f4f0",
   "metadata": {},
   "outputs": [],
   "source": [
    "TransactionAmount=data['TransactionAmount (INR)']"
   ]
  },
  {
   "cell_type": "code",
   "execution_count": 41,
   "id": "ecf97468",
   "metadata": {},
   "outputs": [],
   "source": [
    "CustAccountBalance=data['CustAccountBalance']"
   ]
  },
  {
   "cell_type": "code",
   "execution_count": 42,
   "id": "49811848",
   "metadata": {},
   "outputs": [],
   "source": [
    "data['n_significant_transactions']=0"
   ]
  },
  {
   "cell_type": "code",
   "execution_count": 43,
   "id": "4dfde078",
   "metadata": {},
   "outputs": [
    {
     "name": "stderr",
     "output_type": "stream",
     "text": [
      "C:\\Users\\feder\\AppData\\Local\\Temp\\ipykernel_19568\\2877739962.py:3: SettingWithCopyWarning: \n",
      "A value is trying to be set on a copy of a slice from a DataFrame\n",
      "\n",
      "See the caveats in the documentation: https://pandas.pydata.org/pandas-docs/stable/user_guide/indexing.html#returning-a-view-versus-a-copy\n",
      "  data['n_significant_transactions'][i]=1\n"
     ]
    }
   ],
   "source": [
    "for i in range(len(data)):\n",
    "    if TransactionAmount[i]>=CustAccountBalance[i]*0.1:\n",
    "        data['n_significant_transactions'][i]=1"
   ]
  },
  {
   "cell_type": "code",
   "execution_count": null,
   "id": "a7647eaf",
   "metadata": {},
   "outputs": [],
   "source": []
  },
  {
   "cell_type": "code",
   "execution_count": 44,
   "id": "e359ab17",
   "metadata": {},
   "outputs": [],
   "source": [
    "n_significant_transactions=data.groupby(['CustomerID'])['n_significant_transactions'].sum().reset_index(name='n_significant_transactions')"
   ]
  },
  {
   "cell_type": "code",
   "execution_count": 45,
   "id": "01f78923",
   "metadata": {},
   "outputs": [],
   "source": [
    "features = pd.merge(features, n_significant_transactions, on=\"CustomerID\")"
   ]
  },
  {
   "cell_type": "markdown",
   "id": "e9e17679",
   "metadata": {},
   "source": [
    "### Number of transaction (per person) with a percentage of expenditure lower or equal to 1%: *n_normal_transactions*"
   ]
  },
  {
   "cell_type": "code",
   "execution_count": 49,
   "id": "c056f4f9",
   "metadata": {},
   "outputs": [],
   "source": [
    "TransactionAmount=data['TransactionAmount (INR)']"
   ]
  },
  {
   "cell_type": "code",
   "execution_count": 50,
   "id": "b3d7f80e",
   "metadata": {},
   "outputs": [],
   "source": [
    "CustAccountBalance=data['CustAccountBalance']"
   ]
  },
  {
   "cell_type": "code",
   "execution_count": 51,
   "id": "cdd635bc",
   "metadata": {},
   "outputs": [],
   "source": [
    "data['n_normal_transactions']=0"
   ]
  },
  {
   "cell_type": "code",
   "execution_count": 53,
   "id": "33c213c8",
   "metadata": {},
   "outputs": [
    {
     "name": "stderr",
     "output_type": "stream",
     "text": [
      "C:\\Users\\feder\\AppData\\Local\\Temp\\ipykernel_19568\\856099615.py:3: SettingWithCopyWarning: \n",
      "A value is trying to be set on a copy of a slice from a DataFrame\n",
      "\n",
      "See the caveats in the documentation: https://pandas.pydata.org/pandas-docs/stable/user_guide/indexing.html#returning-a-view-versus-a-copy\n",
      "  data['n_normal_transactions'][i]=1\n"
     ]
    }
   ],
   "source": [
    "for i in range(len(data)):\n",
    "    if TransactionAmount[i]<=CustAccountBalance[i]*0.01:\n",
    "        data['n_normal_transactions'][i]=1"
   ]
  },
  {
   "cell_type": "code",
   "execution_count": 54,
   "id": "50aff0eb",
   "metadata": {},
   "outputs": [],
   "source": [
    "n_normal_transactions=data.groupby(['CustomerID'])['n_normal_transactions'].sum().reset_index(name='n_normal_transactions')"
   ]
  },
  {
   "cell_type": "code",
   "execution_count": 55,
   "id": "58d19c7b",
   "metadata": {},
   "outputs": [],
   "source": [
    "features = pd.merge(features, n_normal_transactions, on=\"CustomerID\")"
   ]
  },
  {
   "cell_type": "markdown",
   "id": "50b58b2b",
   "metadata": {},
   "source": [
    "###  Account balance range: *acc_bal_range*"
   ]
  },
  {
   "cell_type": "code",
   "execution_count": 59,
   "id": "0e1e39a8",
   "metadata": {},
   "outputs": [],
   "source": [
    "features['acc_bal_range']=features['max_accountbalance']-features['min_accountbalance']"
   ]
  },
  {
   "cell_type": "markdown",
   "id": "1fe960f9",
   "metadata": {},
   "source": [
    "### Utilisation on average account balance: *percent_availability*"
   ]
  },
  {
   "cell_type": "code",
   "execution_count": 83,
   "id": "f6e4749c",
   "metadata": {},
   "outputs": [],
   "source": [
    "features['percent_availability']=round(features['utilisation']/features['average_balance']*100, 2)"
   ]
  },
  {
   "cell_type": "markdown",
   "id": "1efc6649",
   "metadata": {},
   "source": [
    "### Number of transactions in the first half of the day"
   ]
  },
  {
   "cell_type": "code",
   "execution_count": 105,
   "id": "c4cb388e",
   "metadata": {},
   "outputs": [],
   "source": [
    "transaction_time=data['TransactionTime']"
   ]
  },
  {
   "cell_type": "code",
   "execution_count": 106,
   "id": "e9ca6445",
   "metadata": {},
   "outputs": [],
   "source": [
    "data['early']=0"
   ]
  },
  {
   "cell_type": "code",
   "execution_count": 107,
   "id": "346e3db5",
   "metadata": {},
   "outputs": [
    {
     "name": "stderr",
     "output_type": "stream",
     "text": [
      "C:\\Users\\feder\\AppData\\Local\\Temp\\ipykernel_19568\\2474452796.py:3: SettingWithCopyWarning: \n",
      "A value is trying to be set on a copy of a slice from a DataFrame\n",
      "\n",
      "See the caveats in the documentation: https://pandas.pydata.org/pandas-docs/stable/user_guide/indexing.html#returning-a-view-versus-a-copy\n",
      "  data['early'][i]=1\n"
     ]
    }
   ],
   "source": [
    "for i in range(len(data)):\n",
    "    if transaction_time[i]<=datetime.strptime(\"12:00:00\", '%H:%M:%S').time():\n",
    "        data['early'][i]=1"
   ]
  },
  {
   "cell_type": "code",
   "execution_count": 111,
   "id": "044812fc",
   "metadata": {},
   "outputs": [],
   "source": [
    "first_half_transactions=data.groupby(['CustomerID'])['early'].sum().reset_index(name='first_half_transactions')"
   ]
  },
  {
   "cell_type": "code",
   "execution_count": 112,
   "id": "142652ed",
   "metadata": {},
   "outputs": [],
   "source": [
    "features = pd.merge(features, first_half_transactions, on=\"CustomerID\")"
   ]
  },
  {
   "cell_type": "markdown",
   "id": "63ed6e90",
   "metadata": {},
   "source": [
    "###  Number of transactions in the second half of the day"
   ]
  },
  {
   "cell_type": "code",
   "execution_count": 114,
   "id": "378b6d71",
   "metadata": {},
   "outputs": [],
   "source": [
    "data['late']=0"
   ]
  },
  {
   "cell_type": "code",
   "execution_count": 115,
   "id": "9d29644f",
   "metadata": {},
   "outputs": [
    {
     "name": "stderr",
     "output_type": "stream",
     "text": [
      "C:\\Users\\feder\\AppData\\Local\\Temp\\ipykernel_19568\\496431693.py:3: SettingWithCopyWarning: \n",
      "A value is trying to be set on a copy of a slice from a DataFrame\n",
      "\n",
      "See the caveats in the documentation: https://pandas.pydata.org/pandas-docs/stable/user_guide/indexing.html#returning-a-view-versus-a-copy\n",
      "  data['late'][i]=1\n"
     ]
    }
   ],
   "source": [
    "for i in range(len(data)):\n",
    "    if transaction_time[i]>datetime.strptime(\"12:00:00\", '%H:%M:%S').time():\n",
    "        data['late'][i]=1"
   ]
  },
  {
   "cell_type": "code",
   "execution_count": 116,
   "id": "152beca7",
   "metadata": {},
   "outputs": [],
   "source": [
    "second_half_transactions=data.groupby(['CustomerID'])['late'].sum().reset_index(name='second_half_transactions')"
   ]
  },
  {
   "cell_type": "code",
   "execution_count": 117,
   "id": "17ff106a",
   "metadata": {},
   "outputs": [],
   "source": [
    "features = pd.merge(features, second_half_transactions, on=\"CustomerID\")"
   ]
  },
  {
   "cell_type": "markdown",
   "id": "e29f268d",
   "metadata": {},
   "source": [
    "### Number of transactions in the first half of the year"
   ]
  },
  {
   "cell_type": "code",
   "execution_count": 121,
   "id": "220ae6e8",
   "metadata": {},
   "outputs": [],
   "source": [
    "data['first_half']=0"
   ]
  },
  {
   "cell_type": "code",
   "execution_count": 122,
   "id": "3fd33dd7",
   "metadata": {},
   "outputs": [
    {
     "name": "stderr",
     "output_type": "stream",
     "text": [
      "C:\\Users\\feder\\AppData\\Local\\Temp\\ipykernel_19568\\2107607953.py:5: SettingWithCopyWarning: \n",
      "A value is trying to be set on a copy of a slice from a DataFrame\n",
      "\n",
      "See the caveats in the documentation: https://pandas.pydata.org/pandas-docs/stable/user_guide/indexing.html#returning-a-view-versus-a-copy\n",
      "  data['first_half'][i]=1\n"
     ]
    }
   ],
   "source": [
    "for i in range(len(data)):\n",
    "    a=str(data.TransactionDate[i])\n",
    "    b=int(a[5]+a[6])\n",
    "    if b<=6:\n",
    "        data['first_half'][i]=1"
   ]
  },
  {
   "cell_type": "code",
   "execution_count": 124,
   "id": "5dade6a9",
   "metadata": {},
   "outputs": [],
   "source": [
    "first_months_transactions=data.groupby(['CustomerID'])['first_half'].sum().reset_index(name='first_months_transactions')"
   ]
  },
  {
   "cell_type": "code",
   "execution_count": 125,
   "id": "e1f056a1",
   "metadata": {},
   "outputs": [],
   "source": [
    "features = pd.merge(features, first_months_transactions, on=\"CustomerID\")"
   ]
  },
  {
   "cell_type": "markdown",
   "id": "cdfdbbf8",
   "metadata": {},
   "source": [
    "### Number of transactions in the second half of the year"
   ]
  },
  {
   "cell_type": "code",
   "execution_count": 127,
   "id": "9b0c5e0a",
   "metadata": {},
   "outputs": [],
   "source": [
    "data['second_half']=0"
   ]
  },
  {
   "cell_type": "code",
   "execution_count": 128,
   "id": "820f8f1a",
   "metadata": {},
   "outputs": [
    {
     "name": "stderr",
     "output_type": "stream",
     "text": [
      "C:\\Users\\feder\\AppData\\Local\\Temp\\ipykernel_19568\\3048449531.py:5: SettingWithCopyWarning: \n",
      "A value is trying to be set on a copy of a slice from a DataFrame\n",
      "\n",
      "See the caveats in the documentation: https://pandas.pydata.org/pandas-docs/stable/user_guide/indexing.html#returning-a-view-versus-a-copy\n",
      "  data['second_half'][i]=1\n"
     ]
    }
   ],
   "source": [
    "for i in range(len(data)):\n",
    "    a=str(data.TransactionDate[i])\n",
    "    b=int(a[5]+a[6])\n",
    "    if b>6:\n",
    "        data['second_half'][i]=1"
   ]
  },
  {
   "cell_type": "code",
   "execution_count": 129,
   "id": "5fb3fb23",
   "metadata": {},
   "outputs": [],
   "source": [
    "last_months_transactions=data.groupby(['CustomerID'])['second_half'].sum().reset_index(name='last_months_transactions')"
   ]
  },
  {
   "cell_type": "code",
   "execution_count": 130,
   "id": "cf9473c0",
   "metadata": {},
   "outputs": [],
   "source": [
    "features = pd.merge(features, last_months_transactions, on=\"CustomerID\")"
   ]
  },
  {
   "cell_type": "markdown",
   "id": "f369e9c7",
   "metadata": {},
   "source": [
    "### TransactionAmount (INR) median"
   ]
  },
  {
   "cell_type": "code",
   "execution_count": 132,
   "id": "27ad1470",
   "metadata": {},
   "outputs": [],
   "source": [
    "median_amount= data.groupby(['CustomerID'])[\"TransactionAmount (INR)\"].median().reset_index(name='median_amount')"
   ]
  },
  {
   "cell_type": "code",
   "execution_count": 134,
   "id": "921903ff",
   "metadata": {},
   "outputs": [],
   "source": [
    "features = pd.merge(features, median_amount, on=\"CustomerID\")"
   ]
  },
  {
   "cell_type": "markdown",
   "id": "55bf11cc",
   "metadata": {},
   "source": [
    "### TransactionAmount (INR) first quartile"
   ]
  },
  {
   "cell_type": "code",
   "execution_count": 136,
   "id": "254bdfd1",
   "metadata": {},
   "outputs": [],
   "source": [
    "first_quartile_amount= data.groupby(['CustomerID'])[\"TransactionAmount (INR)\"].quantile([0.25]).reset_index(name='first_quartile_amount')"
   ]
  },
  {
   "cell_type": "code",
   "execution_count": 138,
   "id": "c99beb6e",
   "metadata": {},
   "outputs": [],
   "source": [
    "features = pd.merge(features, first_quartile_amount, on=\"CustomerID\")"
   ]
  },
  {
   "cell_type": "markdown",
   "id": "b82b8931",
   "metadata": {},
   "source": [
    "### TransactionAmount (INR) third quartile"
   ]
  },
  {
   "cell_type": "code",
   "execution_count": 139,
   "id": "f238b129",
   "metadata": {},
   "outputs": [],
   "source": [
    "third_quartile_amount= data.groupby(['CustomerID'])[\"TransactionAmount (INR)\"].quantile([0.75]).reset_index(name='third_quartile_amount')"
   ]
  },
  {
   "cell_type": "code",
   "execution_count": 140,
   "id": "c7abfb9a",
   "metadata": {},
   "outputs": [],
   "source": [
    "features = pd.merge(features, third_quartile_amount, on=\"CustomerID\")"
   ]
  },
  {
   "cell_type": "code",
   "execution_count": 143,
   "id": "73a3a16a",
   "metadata": {},
   "outputs": [],
   "source": [
    "features=features.drop(['level_1_x','level_1_y'], axis=1)"
   ]
  },
  {
   "cell_type": "code",
   "execution_count": 144,
   "id": "98430157",
   "metadata": {},
   "outputs": [
    {
     "data": {
      "text/html": [
       "<div>\n",
       "<style scoped>\n",
       "    .dataframe tbody tr th:only-of-type {\n",
       "        vertical-align: middle;\n",
       "    }\n",
       "\n",
       "    .dataframe tbody tr th {\n",
       "        vertical-align: top;\n",
       "    }\n",
       "\n",
       "    .dataframe thead th {\n",
       "        text-align: right;\n",
       "    }\n",
       "</style>\n",
       "<table border=\"1\" class=\"dataframe\">\n",
       "  <thead>\n",
       "    <tr style=\"text-align: right;\">\n",
       "      <th></th>\n",
       "      <th>CustomerID</th>\n",
       "      <th>n_transactions</th>\n",
       "      <th>n_transactions_100</th>\n",
       "      <th>average_amount</th>\n",
       "      <th>average_balance</th>\n",
       "      <th>utilisation</th>\n",
       "      <th>common_gender</th>\n",
       "      <th>frequent_location</th>\n",
       "      <th>min_trans</th>\n",
       "      <th>max_trans</th>\n",
       "      <th>...</th>\n",
       "      <th>percent_availability</th>\n",
       "      <th>earliest_TransactionTime</th>\n",
       "      <th>latest_TransactionTime</th>\n",
       "      <th>first_half_transactions</th>\n",
       "      <th>second_half_transactions</th>\n",
       "      <th>first_months_transactions</th>\n",
       "      <th>last_months_transactions</th>\n",
       "      <th>median_amount</th>\n",
       "      <th>first_quartile_amount</th>\n",
       "      <th>third_quartile_amount</th>\n",
       "    </tr>\n",
       "  </thead>\n",
       "  <tbody>\n",
       "    <tr>\n",
       "      <th>0</th>\n",
       "      <td>C1010011</td>\n",
       "      <td>2</td>\n",
       "      <td>2</td>\n",
       "      <td>2553.0</td>\n",
       "      <td>76340.635</td>\n",
       "      <td>73787.635</td>\n",
       "      <td>[F, M]</td>\n",
       "      <td>[NEW DELHI, NOIDA]</td>\n",
       "      <td>356.0</td>\n",
       "      <td>4750.0</td>\n",
       "      <td>...</td>\n",
       "      <td>96.66</td>\n",
       "      <td>01:12:29</td>\n",
       "      <td>12:38:13</td>\n",
       "      <td>1</td>\n",
       "      <td>1</td>\n",
       "      <td>0</td>\n",
       "      <td>2</td>\n",
       "      <td>2553.0</td>\n",
       "      <td>1454.50</td>\n",
       "      <td>3651.50</td>\n",
       "    </tr>\n",
       "    <tr>\n",
       "      <th>1</th>\n",
       "      <td>C1010012</td>\n",
       "      <td>1</td>\n",
       "      <td>1</td>\n",
       "      <td>1499.0</td>\n",
       "      <td>24204.490</td>\n",
       "      <td>22705.490</td>\n",
       "      <td>M</td>\n",
       "      <td>MUMBAI</td>\n",
       "      <td>1499.0</td>\n",
       "      <td>1499.0</td>\n",
       "      <td>...</td>\n",
       "      <td>93.81</td>\n",
       "      <td>20:44:09</td>\n",
       "      <td>20:44:09</td>\n",
       "      <td>0</td>\n",
       "      <td>1</td>\n",
       "      <td>0</td>\n",
       "      <td>1</td>\n",
       "      <td>1499.0</td>\n",
       "      <td>1499.00</td>\n",
       "      <td>1499.00</td>\n",
       "    </tr>\n",
       "    <tr>\n",
       "      <th>2</th>\n",
       "      <td>C1010014</td>\n",
       "      <td>2</td>\n",
       "      <td>2</td>\n",
       "      <td>727.5</td>\n",
       "      <td>100112.950</td>\n",
       "      <td>99385.450</td>\n",
       "      <td>[F, M]</td>\n",
       "      <td>MUMBAI</td>\n",
       "      <td>250.0</td>\n",
       "      <td>1205.0</td>\n",
       "      <td>...</td>\n",
       "      <td>99.27</td>\n",
       "      <td>15:44:51</td>\n",
       "      <td>22:03:05</td>\n",
       "      <td>0</td>\n",
       "      <td>2</td>\n",
       "      <td>1</td>\n",
       "      <td>1</td>\n",
       "      <td>727.5</td>\n",
       "      <td>488.75</td>\n",
       "      <td>966.25</td>\n",
       "    </tr>\n",
       "    <tr>\n",
       "      <th>3</th>\n",
       "      <td>C1010018</td>\n",
       "      <td>1</td>\n",
       "      <td>0</td>\n",
       "      <td>30.0</td>\n",
       "      <td>496.180</td>\n",
       "      <td>466.180</td>\n",
       "      <td>F</td>\n",
       "      <td>CHAMPARAN</td>\n",
       "      <td>30.0</td>\n",
       "      <td>30.0</td>\n",
       "      <td>...</td>\n",
       "      <td>93.95</td>\n",
       "      <td>17:02:54</td>\n",
       "      <td>17:02:54</td>\n",
       "      <td>0</td>\n",
       "      <td>1</td>\n",
       "      <td>0</td>\n",
       "      <td>1</td>\n",
       "      <td>30.0</td>\n",
       "      <td>30.00</td>\n",
       "      <td>30.00</td>\n",
       "    </tr>\n",
       "    <tr>\n",
       "      <th>4</th>\n",
       "      <td>C1010024</td>\n",
       "      <td>1</td>\n",
       "      <td>1</td>\n",
       "      <td>5000.0</td>\n",
       "      <td>87058.650</td>\n",
       "      <td>82058.650</td>\n",
       "      <td>M</td>\n",
       "      <td>KOLKATA</td>\n",
       "      <td>5000.0</td>\n",
       "      <td>5000.0</td>\n",
       "      <td>...</td>\n",
       "      <td>94.26</td>\n",
       "      <td>14:11:03</td>\n",
       "      <td>14:11:03</td>\n",
       "      <td>0</td>\n",
       "      <td>1</td>\n",
       "      <td>0</td>\n",
       "      <td>1</td>\n",
       "      <td>5000.0</td>\n",
       "      <td>5000.00</td>\n",
       "      <td>5000.00</td>\n",
       "    </tr>\n",
       "    <tr>\n",
       "      <th>...</th>\n",
       "      <td>...</td>\n",
       "      <td>...</td>\n",
       "      <td>...</td>\n",
       "      <td>...</td>\n",
       "      <td>...</td>\n",
       "      <td>...</td>\n",
       "      <td>...</td>\n",
       "      <td>...</td>\n",
       "      <td>...</td>\n",
       "      <td>...</td>\n",
       "      <td>...</td>\n",
       "      <td>...</td>\n",
       "      <td>...</td>\n",
       "      <td>...</td>\n",
       "      <td>...</td>\n",
       "      <td>...</td>\n",
       "      <td>...</td>\n",
       "      <td>...</td>\n",
       "      <td>...</td>\n",
       "      <td>...</td>\n",
       "      <td>...</td>\n",
       "    </tr>\n",
       "    <tr>\n",
       "      <th>884260</th>\n",
       "      <td>C9099836</td>\n",
       "      <td>1</td>\n",
       "      <td>1</td>\n",
       "      <td>691.0</td>\n",
       "      <td>133067.230</td>\n",
       "      <td>132376.230</td>\n",
       "      <td>M</td>\n",
       "      <td>BHIWANDI</td>\n",
       "      <td>691.0</td>\n",
       "      <td>691.0</td>\n",
       "      <td>...</td>\n",
       "      <td>99.48</td>\n",
       "      <td>00:51:22</td>\n",
       "      <td>00:51:22</td>\n",
       "      <td>1</td>\n",
       "      <td>0</td>\n",
       "      <td>0</td>\n",
       "      <td>1</td>\n",
       "      <td>691.0</td>\n",
       "      <td>691.00</td>\n",
       "      <td>691.00</td>\n",
       "    </tr>\n",
       "    <tr>\n",
       "      <th>884261</th>\n",
       "      <td>C9099877</td>\n",
       "      <td>1</td>\n",
       "      <td>1</td>\n",
       "      <td>222.0</td>\n",
       "      <td>96063.460</td>\n",
       "      <td>95841.460</td>\n",
       "      <td>M</td>\n",
       "      <td>BANGALORE</td>\n",
       "      <td>222.0</td>\n",
       "      <td>222.0</td>\n",
       "      <td>...</td>\n",
       "      <td>99.77</td>\n",
       "      <td>12:02:55</td>\n",
       "      <td>12:02:55</td>\n",
       "      <td>0</td>\n",
       "      <td>1</td>\n",
       "      <td>0</td>\n",
       "      <td>1</td>\n",
       "      <td>222.0</td>\n",
       "      <td>222.00</td>\n",
       "      <td>222.00</td>\n",
       "    </tr>\n",
       "    <tr>\n",
       "      <th>884262</th>\n",
       "      <td>C9099919</td>\n",
       "      <td>1</td>\n",
       "      <td>1</td>\n",
       "      <td>126.0</td>\n",
       "      <td>5559.750</td>\n",
       "      <td>5433.750</td>\n",
       "      <td>M</td>\n",
       "      <td>GUNTUR</td>\n",
       "      <td>126.0</td>\n",
       "      <td>126.0</td>\n",
       "      <td>...</td>\n",
       "      <td>97.73</td>\n",
       "      <td>12:25:33</td>\n",
       "      <td>12:25:33</td>\n",
       "      <td>0</td>\n",
       "      <td>1</td>\n",
       "      <td>0</td>\n",
       "      <td>1</td>\n",
       "      <td>126.0</td>\n",
       "      <td>126.00</td>\n",
       "      <td>126.00</td>\n",
       "    </tr>\n",
       "    <tr>\n",
       "      <th>884263</th>\n",
       "      <td>C9099941</td>\n",
       "      <td>1</td>\n",
       "      <td>0</td>\n",
       "      <td>50.0</td>\n",
       "      <td>35295.920</td>\n",
       "      <td>35245.920</td>\n",
       "      <td>M</td>\n",
       "      <td>CHENNAI</td>\n",
       "      <td>50.0</td>\n",
       "      <td>50.0</td>\n",
       "      <td>...</td>\n",
       "      <td>99.86</td>\n",
       "      <td>21:37:22</td>\n",
       "      <td>21:37:22</td>\n",
       "      <td>0</td>\n",
       "      <td>1</td>\n",
       "      <td>0</td>\n",
       "      <td>1</td>\n",
       "      <td>50.0</td>\n",
       "      <td>50.00</td>\n",
       "      <td>50.00</td>\n",
       "    </tr>\n",
       "    <tr>\n",
       "      <th>884264</th>\n",
       "      <td>C9099956</td>\n",
       "      <td>1</td>\n",
       "      <td>1</td>\n",
       "      <td>855.0</td>\n",
       "      <td>6968.930</td>\n",
       "      <td>6113.930</td>\n",
       "      <td>M</td>\n",
       "      <td>MUSSOORIE</td>\n",
       "      <td>855.0</td>\n",
       "      <td>855.0</td>\n",
       "      <td>...</td>\n",
       "      <td>87.73</td>\n",
       "      <td>22:57:32</td>\n",
       "      <td>22:57:32</td>\n",
       "      <td>0</td>\n",
       "      <td>1</td>\n",
       "      <td>0</td>\n",
       "      <td>1</td>\n",
       "      <td>855.0</td>\n",
       "      <td>855.00</td>\n",
       "      <td>855.00</td>\n",
       "    </tr>\n",
       "  </tbody>\n",
       "</table>\n",
       "<p>884265 rows × 28 columns</p>\n",
       "</div>"
      ],
      "text/plain": [
       "       CustomerID  n_transactions  n_transactions_100  average_amount  \\\n",
       "0        C1010011               2                   2          2553.0   \n",
       "1        C1010012               1                   1          1499.0   \n",
       "2        C1010014               2                   2           727.5   \n",
       "3        C1010018               1                   0            30.0   \n",
       "4        C1010024               1                   1          5000.0   \n",
       "...           ...             ...                 ...             ...   \n",
       "884260   C9099836               1                   1           691.0   \n",
       "884261   C9099877               1                   1           222.0   \n",
       "884262   C9099919               1                   1           126.0   \n",
       "884263   C9099941               1                   0            50.0   \n",
       "884264   C9099956               1                   1           855.0   \n",
       "\n",
       "        average_balance  utilisation common_gender   frequent_location  \\\n",
       "0             76340.635    73787.635        [F, M]  [NEW DELHI, NOIDA]   \n",
       "1             24204.490    22705.490             M              MUMBAI   \n",
       "2            100112.950    99385.450        [F, M]              MUMBAI   \n",
       "3               496.180      466.180             F           CHAMPARAN   \n",
       "4             87058.650    82058.650             M             KOLKATA   \n",
       "...                 ...          ...           ...                 ...   \n",
       "884260       133067.230   132376.230             M            BHIWANDI   \n",
       "884261        96063.460    95841.460             M           BANGALORE   \n",
       "884262         5559.750     5433.750             M              GUNTUR   \n",
       "884263        35295.920    35245.920             M             CHENNAI   \n",
       "884264         6968.930     6113.930             M           MUSSOORIE   \n",
       "\n",
       "        min_trans  max_trans  ...  percent_availability  \\\n",
       "0           356.0     4750.0  ...                 96.66   \n",
       "1          1499.0     1499.0  ...                 93.81   \n",
       "2           250.0     1205.0  ...                 99.27   \n",
       "3            30.0       30.0  ...                 93.95   \n",
       "4          5000.0     5000.0  ...                 94.26   \n",
       "...           ...        ...  ...                   ...   \n",
       "884260      691.0      691.0  ...                 99.48   \n",
       "884261      222.0      222.0  ...                 99.77   \n",
       "884262      126.0      126.0  ...                 97.73   \n",
       "884263       50.0       50.0  ...                 99.86   \n",
       "884264      855.0      855.0  ...                 87.73   \n",
       "\n",
       "        earliest_TransactionTime  latest_TransactionTime  \\\n",
       "0                       01:12:29                12:38:13   \n",
       "1                       20:44:09                20:44:09   \n",
       "2                       15:44:51                22:03:05   \n",
       "3                       17:02:54                17:02:54   \n",
       "4                       14:11:03                14:11:03   \n",
       "...                          ...                     ...   \n",
       "884260                  00:51:22                00:51:22   \n",
       "884261                  12:02:55                12:02:55   \n",
       "884262                  12:25:33                12:25:33   \n",
       "884263                  21:37:22                21:37:22   \n",
       "884264                  22:57:32                22:57:32   \n",
       "\n",
       "        first_half_transactions  second_half_transactions  \\\n",
       "0                             1                         1   \n",
       "1                             0                         1   \n",
       "2                             0                         2   \n",
       "3                             0                         1   \n",
       "4                             0                         1   \n",
       "...                         ...                       ...   \n",
       "884260                        1                         0   \n",
       "884261                        0                         1   \n",
       "884262                        0                         1   \n",
       "884263                        0                         1   \n",
       "884264                        0                         1   \n",
       "\n",
       "        first_months_transactions  last_months_transactions  median_amount  \\\n",
       "0                               0                         2         2553.0   \n",
       "1                               0                         1         1499.0   \n",
       "2                               1                         1          727.5   \n",
       "3                               0                         1           30.0   \n",
       "4                               0                         1         5000.0   \n",
       "...                           ...                       ...            ...   \n",
       "884260                          0                         1          691.0   \n",
       "884261                          0                         1          222.0   \n",
       "884262                          0                         1          126.0   \n",
       "884263                          0                         1           50.0   \n",
       "884264                          0                         1          855.0   \n",
       "\n",
       "        first_quartile_amount third_quartile_amount  \n",
       "0                     1454.50               3651.50  \n",
       "1                     1499.00               1499.00  \n",
       "2                      488.75                966.25  \n",
       "3                       30.00                 30.00  \n",
       "4                     5000.00               5000.00  \n",
       "...                       ...                   ...  \n",
       "884260                 691.00                691.00  \n",
       "884261                 222.00                222.00  \n",
       "884262                 126.00                126.00  \n",
       "884263                  50.00                 50.00  \n",
       "884264                 855.00                855.00  \n",
       "\n",
       "[884265 rows x 28 columns]"
      ]
     },
     "execution_count": 144,
     "metadata": {},
     "output_type": "execute_result"
    }
   ],
   "source": [
    "features"
   ]
  },
  {
   "cell_type": "code",
   "execution_count": 146,
   "id": "63030065",
   "metadata": {},
   "outputs": [],
   "source": [
    "features.to_csv('features.csv')"
   ]
  }
 ],
 "metadata": {
  "kernelspec": {
   "display_name": "Python 3 (ipykernel)",
   "language": "python",
   "name": "python3"
  },
  "language_info": {
   "codemirror_mode": {
    "name": "ipython",
    "version": 3
   },
   "file_extension": ".py",
   "mimetype": "text/x-python",
   "name": "python",
   "nbconvert_exporter": "python",
   "pygments_lexer": "ipython3",
   "version": "3.8.13"
  }
 },
 "nbformat": 4,
 "nbformat_minor": 5
}
