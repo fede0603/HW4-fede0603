{
 "cells": [
  {
   "cell_type": "markdown",
   "id": "d58ad5e6",
   "metadata": {},
   "source": [
    "# 2.4 Analysing your results!"
   ]
  },
  {
   "cell_type": "markdown",
   "id": "20d0782e",
   "metadata": {},
   "source": [
    "### Select 2-3 variables you think are relevant to identify the cluster of the customer"
   ]
  },
  {
   "cell_type": "code",
   "execution_count": 2,
   "id": "b794c9ce",
   "metadata": {},
   "outputs": [],
   "source": [
    "import pandas as pd\n",
    "import numpy as np"
   ]
  },
  {
   "cell_type": "code",
   "execution_count": 3,
   "id": "f472dd40",
   "metadata": {},
   "outputs": [],
   "source": [
    "features = pd.read_csv(\"features.csv\")\n",
    "features=features.drop(['Unnamed: 0'], axis=1)"
   ]
  },
  {
   "cell_type": "code",
   "execution_count": 27,
   "id": "938213a6",
   "metadata": {
    "scrolled": true
   },
   "outputs": [
    {
     "data": {
      "text/html": [
       "<div>\n",
       "<style scoped>\n",
       "    .dataframe tbody tr th:only-of-type {\n",
       "        vertical-align: middle;\n",
       "    }\n",
       "\n",
       "    .dataframe tbody tr th {\n",
       "        vertical-align: top;\n",
       "    }\n",
       "\n",
       "    .dataframe thead th {\n",
       "        text-align: right;\n",
       "    }\n",
       "</style>\n",
       "<table border=\"1\" class=\"dataframe\">\n",
       "  <thead>\n",
       "    <tr style=\"text-align: right;\">\n",
       "      <th></th>\n",
       "      <th>CustomerID</th>\n",
       "      <th>n_transactions</th>\n",
       "      <th>n_transactions_100</th>\n",
       "      <th>average_amount</th>\n",
       "      <th>average_balance</th>\n",
       "      <th>utilisation</th>\n",
       "      <th>common_gender</th>\n",
       "      <th>frequent_location</th>\n",
       "      <th>min_trans</th>\n",
       "      <th>max_trans</th>\n",
       "      <th>...</th>\n",
       "      <th>earliest_TransactionTime</th>\n",
       "      <th>latest_TransactionTime</th>\n",
       "      <th>first_half_transactions</th>\n",
       "      <th>second_half_transactions</th>\n",
       "      <th>first_months_transactions</th>\n",
       "      <th>last_months_transactions</th>\n",
       "      <th>median_amount</th>\n",
       "      <th>first_quartile_amount</th>\n",
       "      <th>third_quartile_amount</th>\n",
       "      <th>clus_ind</th>\n",
       "    </tr>\n",
       "  </thead>\n",
       "  <tbody>\n",
       "    <tr>\n",
       "      <th>0</th>\n",
       "      <td>C1010011</td>\n",
       "      <td>2</td>\n",
       "      <td>2</td>\n",
       "      <td>2553.0</td>\n",
       "      <td>76340.635</td>\n",
       "      <td>73787.635</td>\n",
       "      <td>['F' 'M']</td>\n",
       "      <td>['NEW DELHI' 'NOIDA']</td>\n",
       "      <td>356.0</td>\n",
       "      <td>4750.0</td>\n",
       "      <td>...</td>\n",
       "      <td>01:12:29</td>\n",
       "      <td>12:38:13</td>\n",
       "      <td>1</td>\n",
       "      <td>1</td>\n",
       "      <td>0</td>\n",
       "      <td>2</td>\n",
       "      <td>2553.0</td>\n",
       "      <td>1454.50</td>\n",
       "      <td>3651.50</td>\n",
       "      <td>1</td>\n",
       "    </tr>\n",
       "    <tr>\n",
       "      <th>1</th>\n",
       "      <td>C1010012</td>\n",
       "      <td>1</td>\n",
       "      <td>1</td>\n",
       "      <td>1499.0</td>\n",
       "      <td>24204.490</td>\n",
       "      <td>22705.490</td>\n",
       "      <td>M</td>\n",
       "      <td>MUMBAI</td>\n",
       "      <td>1499.0</td>\n",
       "      <td>1499.0</td>\n",
       "      <td>...</td>\n",
       "      <td>20:44:09</td>\n",
       "      <td>20:44:09</td>\n",
       "      <td>0</td>\n",
       "      <td>1</td>\n",
       "      <td>0</td>\n",
       "      <td>1</td>\n",
       "      <td>1499.0</td>\n",
       "      <td>1499.00</td>\n",
       "      <td>1499.00</td>\n",
       "      <td>3</td>\n",
       "    </tr>\n",
       "    <tr>\n",
       "      <th>2</th>\n",
       "      <td>C1010014</td>\n",
       "      <td>2</td>\n",
       "      <td>2</td>\n",
       "      <td>727.5</td>\n",
       "      <td>100112.950</td>\n",
       "      <td>99385.450</td>\n",
       "      <td>['F' 'M']</td>\n",
       "      <td>MUMBAI</td>\n",
       "      <td>250.0</td>\n",
       "      <td>1205.0</td>\n",
       "      <td>...</td>\n",
       "      <td>15:44:51</td>\n",
       "      <td>22:03:05</td>\n",
       "      <td>0</td>\n",
       "      <td>2</td>\n",
       "      <td>1</td>\n",
       "      <td>1</td>\n",
       "      <td>727.5</td>\n",
       "      <td>488.75</td>\n",
       "      <td>966.25</td>\n",
       "      <td>0</td>\n",
       "    </tr>\n",
       "    <tr>\n",
       "      <th>3</th>\n",
       "      <td>C1010018</td>\n",
       "      <td>1</td>\n",
       "      <td>0</td>\n",
       "      <td>30.0</td>\n",
       "      <td>496.180</td>\n",
       "      <td>466.180</td>\n",
       "      <td>F</td>\n",
       "      <td>CHAMPARAN</td>\n",
       "      <td>30.0</td>\n",
       "      <td>30.0</td>\n",
       "      <td>...</td>\n",
       "      <td>17:02:54</td>\n",
       "      <td>17:02:54</td>\n",
       "      <td>0</td>\n",
       "      <td>1</td>\n",
       "      <td>0</td>\n",
       "      <td>1</td>\n",
       "      <td>30.0</td>\n",
       "      <td>30.00</td>\n",
       "      <td>30.00</td>\n",
       "      <td>2</td>\n",
       "    </tr>\n",
       "    <tr>\n",
       "      <th>4</th>\n",
       "      <td>C1010024</td>\n",
       "      <td>1</td>\n",
       "      <td>1</td>\n",
       "      <td>5000.0</td>\n",
       "      <td>87058.650</td>\n",
       "      <td>82058.650</td>\n",
       "      <td>M</td>\n",
       "      <td>KOLKATA</td>\n",
       "      <td>5000.0</td>\n",
       "      <td>5000.0</td>\n",
       "      <td>...</td>\n",
       "      <td>14:11:03</td>\n",
       "      <td>14:11:03</td>\n",
       "      <td>0</td>\n",
       "      <td>1</td>\n",
       "      <td>0</td>\n",
       "      <td>1</td>\n",
       "      <td>5000.0</td>\n",
       "      <td>5000.00</td>\n",
       "      <td>5000.00</td>\n",
       "      <td>3</td>\n",
       "    </tr>\n",
       "  </tbody>\n",
       "</table>\n",
       "<p>5 rows × 29 columns</p>\n",
       "</div>"
      ],
      "text/plain": [
       "  CustomerID  n_transactions  n_transactions_100  average_amount  \\\n",
       "0   C1010011               2                   2          2553.0   \n",
       "1   C1010012               1                   1          1499.0   \n",
       "2   C1010014               2                   2           727.5   \n",
       "3   C1010018               1                   0            30.0   \n",
       "4   C1010024               1                   1          5000.0   \n",
       "\n",
       "   average_balance  utilisation common_gender      frequent_location  \\\n",
       "0        76340.635    73787.635     ['F' 'M']  ['NEW DELHI' 'NOIDA']   \n",
       "1        24204.490    22705.490             M                 MUMBAI   \n",
       "2       100112.950    99385.450     ['F' 'M']                 MUMBAI   \n",
       "3          496.180      466.180             F              CHAMPARAN   \n",
       "4        87058.650    82058.650             M                KOLKATA   \n",
       "\n",
       "   min_trans  max_trans  ...  earliest_TransactionTime  \\\n",
       "0      356.0     4750.0  ...                  01:12:29   \n",
       "1     1499.0     1499.0  ...                  20:44:09   \n",
       "2      250.0     1205.0  ...                  15:44:51   \n",
       "3       30.0       30.0  ...                  17:02:54   \n",
       "4     5000.0     5000.0  ...                  14:11:03   \n",
       "\n",
       "   latest_TransactionTime  first_half_transactions  second_half_transactions  \\\n",
       "0                12:38:13                        1                         1   \n",
       "1                20:44:09                        0                         1   \n",
       "2                22:03:05                        0                         2   \n",
       "3                17:02:54                        0                         1   \n",
       "4                14:11:03                        0                         1   \n",
       "\n",
       "   first_months_transactions  last_months_transactions  median_amount  \\\n",
       "0                          0                         2         2553.0   \n",
       "1                          0                         1         1499.0   \n",
       "2                          1                         1          727.5   \n",
       "3                          0                         1           30.0   \n",
       "4                          0                         1         5000.0   \n",
       "\n",
       "   first_quartile_amount  third_quartile_amount clus_ind  \n",
       "0                1454.50                3651.50        1  \n",
       "1                1499.00                1499.00        3  \n",
       "2                 488.75                 966.25        0  \n",
       "3                  30.00                  30.00        2  \n",
       "4                5000.00                5000.00        3  \n",
       "\n",
       "[5 rows x 29 columns]"
      ]
     },
     "execution_count": 27,
     "metadata": {},
     "output_type": "execute_result"
    }
   ],
   "source": [
    "features.head(5)"
   ]
  },
  {
   "cell_type": "markdown",
   "id": "947d8b65",
   "metadata": {},
   "source": [
    "The 3 variables we think are relevant to identify the cluster of the customers are 'common_gender', 'utilisation', 'average_amount' and 'n_transactions'. We define an empty dataframe and we work starting from it. "
   ]
  },
  {
   "cell_type": "code",
   "execution_count": 42,
   "id": "5fb47987",
   "metadata": {},
   "outputs": [],
   "source": [
    "df =  pd.DataFrame(data=None, index=None, columns=None, dtype=None, copy=False) "
   ]
  },
  {
   "cell_type": "code",
   "execution_count": 54,
   "id": "2c2c979e",
   "metadata": {},
   "outputs": [],
   "source": [
    "df['cluster']=features['clus_ind']\n",
    "df[\"Gender\"] = features[\"common_gender\"].values\n",
    "df[\"utilisation\"] = features[\"utilisation\"].values               \n",
    "df[\"Average_transaction_amount\"] = features[\"average_amount\"].values\n",
    "df[\"n_transactions\"] = features[\"n_transactions\"].values"
   ]
  },
  {
   "cell_type": "code",
   "execution_count": 55,
   "id": "da550c89",
   "metadata": {},
   "outputs": [
    {
     "data": {
      "text/plain": [
       "0          73787.635\n",
       "1          22705.490\n",
       "2          99385.450\n",
       "3            466.180\n",
       "4          82058.650\n",
       "             ...    \n",
       "884260    132376.230\n",
       "884261     95841.460\n",
       "884262      5433.750\n",
       "884263     35245.920\n",
       "884264      6113.930\n",
       "Name: utilisation, Length: 884265, dtype: float64"
      ]
     },
     "execution_count": 55,
     "metadata": {},
     "output_type": "execute_result"
    }
   ],
   "source": [
    "df[\"utilisation\"]"
   ]
  },
  {
   "cell_type": "markdown",
   "id": "8e7bd564",
   "metadata": {},
   "source": [
    "### Most of your selected variables will be numerical (continuous or discrete), then categorise them into four categories."
   ]
  },
  {
   "cell_type": "markdown",
   "id": "558b83e2",
   "metadata": {},
   "source": [
    "We divide 'utilisation' in 4 classes:"
   ]
  },
  {
   "cell_type": "code",
   "execution_count": 56,
   "id": "ee5614be",
   "metadata": {},
   "outputs": [
    {
     "name": "stderr",
     "output_type": "stream",
     "text": [
      "C:\\Users\\feder\\AppData\\Local\\Temp\\ipykernel_19740\\3616360209.py:1: SettingWithCopyWarning: \n",
      "A value is trying to be set on a copy of a slice from a DataFrame\n",
      "\n",
      "See the caveats in the documentation: https://pandas.pydata.org/pandas-docs/stable/user_guide/indexing.html#returning-a-view-versus-a-copy\n",
      "  df.utilisation[df.utilisation < 4000] = 1\n",
      "C:\\Users\\feder\\AppData\\Local\\Temp\\ipykernel_19740\\3616360209.py:2: SettingWithCopyWarning: \n",
      "A value is trying to be set on a copy of a slice from a DataFrame\n",
      "\n",
      "See the caveats in the documentation: https://pandas.pydata.org/pandas-docs/stable/user_guide/indexing.html#returning-a-view-versus-a-copy\n",
      "  df.utilisation[(df.utilisation >= 4000) & (df.utilisation < 20000)] = 2\n",
      "C:\\Users\\feder\\AppData\\Local\\Temp\\ipykernel_19740\\3616360209.py:3: SettingWithCopyWarning: \n",
      "A value is trying to be set on a copy of a slice from a DataFrame\n",
      "\n",
      "See the caveats in the documentation: https://pandas.pydata.org/pandas-docs/stable/user_guide/indexing.html#returning-a-view-versus-a-copy\n",
      "  df.utilisation[(df.utilisation >= 20000) & (df.utilisation < 50000 )] = 3\n",
      "C:\\Users\\feder\\AppData\\Local\\Temp\\ipykernel_19740\\3616360209.py:4: SettingWithCopyWarning: \n",
      "A value is trying to be set on a copy of a slice from a DataFrame\n",
      "\n",
      "See the caveats in the documentation: https://pandas.pydata.org/pandas-docs/stable/user_guide/indexing.html#returning-a-view-versus-a-copy\n",
      "  df.utilisation[df.utilisation >= 50000] = 4\n"
     ]
    }
   ],
   "source": [
    "df.utilisation[df.utilisation < 4000] = 1\n",
    "df.utilisation[(df.utilisation >= 4000) & (df.utilisation < 20000)] = 2\n",
    "df.utilisation[(df.utilisation >= 20000) & (df.utilisation < 50000 )] = 3\n",
    "df.utilisation[df.utilisation >= 50000] = 4"
   ]
  },
  {
   "cell_type": "markdown",
   "id": "ff1039b0",
   "metadata": {},
   "source": [
    "Then, we divide 'Average_transaction_amount' in 4 categories:"
   ]
  },
  {
   "cell_type": "code",
   "execution_count": 57,
   "id": "38bb211d",
   "metadata": {},
   "outputs": [
    {
     "name": "stderr",
     "output_type": "stream",
     "text": [
      "C:\\Users\\feder\\AppData\\Local\\Temp\\ipykernel_19740\\405205566.py:1: SettingWithCopyWarning: \n",
      "A value is trying to be set on a copy of a slice from a DataFrame\n",
      "\n",
      "See the caveats in the documentation: https://pandas.pydata.org/pandas-docs/stable/user_guide/indexing.html#returning-a-view-versus-a-copy\n",
      "  df.Average_transaction_amount[df.Average_transaction_amount < 200] = 1\n",
      "C:\\Users\\feder\\AppData\\Local\\Temp\\ipykernel_19740\\405205566.py:2: SettingWithCopyWarning: \n",
      "A value is trying to be set on a copy of a slice from a DataFrame\n",
      "\n",
      "See the caveats in the documentation: https://pandas.pydata.org/pandas-docs/stable/user_guide/indexing.html#returning-a-view-versus-a-copy\n",
      "  df.Average_transaction_amount[(df.Average_transaction_amount >= 200) & (df.Average_transaction_amount < 500)] = 2\n",
      "C:\\Users\\feder\\AppData\\Local\\Temp\\ipykernel_19740\\405205566.py:3: SettingWithCopyWarning: \n",
      "A value is trying to be set on a copy of a slice from a DataFrame\n",
      "\n",
      "See the caveats in the documentation: https://pandas.pydata.org/pandas-docs/stable/user_guide/indexing.html#returning-a-view-versus-a-copy\n",
      "  df.Average_transaction_amount[(df.Average_transaction_amount >= 500) & (df.Average_transaction_amount < 1000 )] = 3\n",
      "C:\\Users\\feder\\AppData\\Local\\Temp\\ipykernel_19740\\405205566.py:4: SettingWithCopyWarning: \n",
      "A value is trying to be set on a copy of a slice from a DataFrame\n",
      "\n",
      "See the caveats in the documentation: https://pandas.pydata.org/pandas-docs/stable/user_guide/indexing.html#returning-a-view-versus-a-copy\n",
      "  df.Average_transaction_amount[df.Average_transaction_amount >= 1000] = 4\n"
     ]
    }
   ],
   "source": [
    "df.Average_transaction_amount[df.Average_transaction_amount < 200] = 1\n",
    "df.Average_transaction_amount[(df.Average_transaction_amount >= 200) & (df.Average_transaction_amount < 500)] = 2\n",
    "df.Average_transaction_amount[(df.Average_transaction_amount >= 500) & (df.Average_transaction_amount < 1000 )] = 3\n",
    "df.Average_transaction_amount[df.Average_transaction_amount >= 1000] = 4"
   ]
  },
  {
   "cell_type": "markdown",
   "id": "23696c2b",
   "metadata": {},
   "source": [
    "And, in the end we create 4 categories for the variable 'n_transactions':"
   ]
  },
  {
   "cell_type": "code",
   "execution_count": 64,
   "id": "b4b48bbe",
   "metadata": {},
   "outputs": [
    {
     "name": "stderr",
     "output_type": "stream",
     "text": [
      "C:\\Users\\feder\\AppData\\Local\\Temp\\ipykernel_19740\\1663845779.py:1: SettingWithCopyWarning: \n",
      "A value is trying to be set on a copy of a slice from a DataFrame\n",
      "\n",
      "See the caveats in the documentation: https://pandas.pydata.org/pandas-docs/stable/user_guide/indexing.html#returning-a-view-versus-a-copy\n",
      "  df.n_transactions[df.n_transactions <= 1] = 1\n",
      "C:\\Users\\feder\\AppData\\Local\\Temp\\ipykernel_19740\\1663845779.py:2: SettingWithCopyWarning: \n",
      "A value is trying to be set on a copy of a slice from a DataFrame\n",
      "\n",
      "See the caveats in the documentation: https://pandas.pydata.org/pandas-docs/stable/user_guide/indexing.html#returning-a-view-versus-a-copy\n",
      "  df.n_transactions[(df.n_transactions == 1) & (df.n_transactions == 2)] = 2\n",
      "C:\\Users\\feder\\AppData\\Local\\Temp\\ipykernel_19740\\1663845779.py:3: SettingWithCopyWarning: \n",
      "A value is trying to be set on a copy of a slice from a DataFrame\n",
      "\n",
      "See the caveats in the documentation: https://pandas.pydata.org/pandas-docs/stable/user_guide/indexing.html#returning-a-view-versus-a-copy\n",
      "  df.n_transactions[(df.n_transactions == 3) & (df.n_transactions == 4 )] = 3\n",
      "C:\\Users\\feder\\AppData\\Local\\Temp\\ipykernel_19740\\1663845779.py:4: SettingWithCopyWarning: \n",
      "A value is trying to be set on a copy of a slice from a DataFrame\n",
      "\n",
      "See the caveats in the documentation: https://pandas.pydata.org/pandas-docs/stable/user_guide/indexing.html#returning-a-view-versus-a-copy\n",
      "  df.n_transactions[df.n_transactions >= 4] = 4\n"
     ]
    }
   ],
   "source": [
    "df.n_transactions[df.n_transactions <= 1] = 1\n",
    "df.n_transactions[(df.n_transactions == 1) & (df.n_transactions == 2)] = 2\n",
    "df.n_transactions[(df.n_transactions == 3) & (df.n_transactions == 4 )] = 3\n",
    "df.n_transactions[df.n_transactions >= 4] = 4"
   ]
  },
  {
   "cell_type": "code",
   "execution_count": 66,
   "id": "8efed18e",
   "metadata": {},
   "outputs": [
    {
     "data": {
      "text/html": [
       "<div>\n",
       "<style scoped>\n",
       "    .dataframe tbody tr th:only-of-type {\n",
       "        vertical-align: middle;\n",
       "    }\n",
       "\n",
       "    .dataframe tbody tr th {\n",
       "        vertical-align: top;\n",
       "    }\n",
       "\n",
       "    .dataframe thead th {\n",
       "        text-align: right;\n",
       "    }\n",
       "</style>\n",
       "<table border=\"1\" class=\"dataframe\">\n",
       "  <thead>\n",
       "    <tr style=\"text-align: right;\">\n",
       "      <th></th>\n",
       "      <th>cluster</th>\n",
       "      <th>Gender</th>\n",
       "      <th>utilisation</th>\n",
       "      <th>Average_transaction_amount</th>\n",
       "      <th>n_transactions</th>\n",
       "    </tr>\n",
       "  </thead>\n",
       "  <tbody>\n",
       "    <tr>\n",
       "      <th>0</th>\n",
       "      <td>1</td>\n",
       "      <td>['F' 'M']</td>\n",
       "      <td>4.0</td>\n",
       "      <td>4.0</td>\n",
       "      <td>2</td>\n",
       "    </tr>\n",
       "    <tr>\n",
       "      <th>1</th>\n",
       "      <td>3</td>\n",
       "      <td>M</td>\n",
       "      <td>3.0</td>\n",
       "      <td>4.0</td>\n",
       "      <td>1</td>\n",
       "    </tr>\n",
       "    <tr>\n",
       "      <th>2</th>\n",
       "      <td>0</td>\n",
       "      <td>['F' 'M']</td>\n",
       "      <td>4.0</td>\n",
       "      <td>3.0</td>\n",
       "      <td>2</td>\n",
       "    </tr>\n",
       "    <tr>\n",
       "      <th>3</th>\n",
       "      <td>2</td>\n",
       "      <td>F</td>\n",
       "      <td>1.0</td>\n",
       "      <td>1.0</td>\n",
       "      <td>1</td>\n",
       "    </tr>\n",
       "    <tr>\n",
       "      <th>4</th>\n",
       "      <td>3</td>\n",
       "      <td>M</td>\n",
       "      <td>4.0</td>\n",
       "      <td>4.0</td>\n",
       "      <td>1</td>\n",
       "    </tr>\n",
       "  </tbody>\n",
       "</table>\n",
       "</div>"
      ],
      "text/plain": [
       "   cluster     Gender  utilisation  Average_transaction_amount  n_transactions\n",
       "0        1  ['F' 'M']          4.0                         4.0               2\n",
       "1        3          M          3.0                         4.0               1\n",
       "2        0  ['F' 'M']          4.0                         3.0               2\n",
       "3        2          F          1.0                         1.0               1\n",
       "4        3          M          4.0                         4.0               1"
      ]
     },
     "execution_count": 66,
     "metadata": {},
     "output_type": "execute_result"
    }
   ],
   "source": [
    "df.head(5)"
   ]
  },
  {
   "cell_type": "markdown",
   "id": "be538c68",
   "metadata": {},
   "source": [
    "### With the selected variables, perform pivot tables. On the horizontal axis, you will have the clusters, and on the vertical axis, you will have the categories of each variable. Notice that you have to do one pivot table per variable. Calculate the percentage by column for each pivot table. The sum of each row (cluster) must be 100."
   ]
  },
  {
   "cell_type": "markdown",
   "id": "28d492b1",
   "metadata": {},
   "source": [
    "We first define an empty pivot table dataframe:"
   ]
  },
  {
   "cell_type": "code",
   "execution_count": 68,
   "id": "e4db62d6",
   "metadata": {},
   "outputs": [],
   "source": [
    "p_t=pd.DataFrame(data=None, index=None, columns=None, dtype=None, copy=False)  "
   ]
  },
  {
   "cell_type": "markdown",
   "id": "1596adda",
   "metadata": {},
   "source": [
    "Then, we start filling it with the percentage by column for each pivot table:"
   ]
  },
  {
   "cell_type": "code",
   "execution_count": 72,
   "id": "aa1502e8",
   "metadata": {},
   "outputs": [],
   "source": [
    "p_t[\"F\"] = round(df.groupby(\"cluster\")[\"Gender\"].apply(lambda x : (x ==\"F\").sum()/((x == \"F\").sum()+(x == \"M\").sum())*100), 2)\n",
    "p_t[\"M\"] = round(df.groupby(\"cluster\")[\"Gender\"].apply(lambda x : (x ==\"M\").sum()/((x == \"F\").sum()+(x == \"M\").sum())*100), 2)"
   ]
  },
  {
   "cell_type": "code",
   "execution_count": 73,
   "id": "24d3de7e",
   "metadata": {},
   "outputs": [
    {
     "data": {
      "text/html": [
       "<div>\n",
       "<style scoped>\n",
       "    .dataframe tbody tr th:only-of-type {\n",
       "        vertical-align: middle;\n",
       "    }\n",
       "\n",
       "    .dataframe tbody tr th {\n",
       "        vertical-align: top;\n",
       "    }\n",
       "\n",
       "    .dataframe thead th {\n",
       "        text-align: right;\n",
       "    }\n",
       "</style>\n",
       "<table border=\"1\" class=\"dataframe\">\n",
       "  <thead>\n",
       "    <tr style=\"text-align: right;\">\n",
       "      <th></th>\n",
       "      <th>M</th>\n",
       "      <th>F</th>\n",
       "    </tr>\n",
       "    <tr>\n",
       "      <th>cluster</th>\n",
       "      <th></th>\n",
       "      <th></th>\n",
       "    </tr>\n",
       "  </thead>\n",
       "  <tbody>\n",
       "    <tr>\n",
       "      <th>0</th>\n",
       "      <td>73.41</td>\n",
       "      <td>26.59</td>\n",
       "    </tr>\n",
       "    <tr>\n",
       "      <th>1</th>\n",
       "      <td>87.04</td>\n",
       "      <td>12.96</td>\n",
       "    </tr>\n",
       "    <tr>\n",
       "      <th>2</th>\n",
       "      <td>76.03</td>\n",
       "      <td>23.97</td>\n",
       "    </tr>\n",
       "    <tr>\n",
       "      <th>3</th>\n",
       "      <td>71.73</td>\n",
       "      <td>28.27</td>\n",
       "    </tr>\n",
       "  </tbody>\n",
       "</table>\n",
       "</div>"
      ],
      "text/plain": [
       "             M      F\n",
       "cluster              \n",
       "0        73.41  26.59\n",
       "1        87.04  12.96\n",
       "2        76.03  23.97\n",
       "3        71.73  28.27"
      ]
     },
     "execution_count": 73,
     "metadata": {},
     "output_type": "execute_result"
    }
   ],
   "source": [
    "p_t[[\"M\",\"F\"]]"
   ]
  },
  {
   "cell_type": "markdown",
   "id": "459636b1",
   "metadata": {},
   "source": [
    "As can be seen from the pivot table, the second cluster stands out from the others in terms of the percentage of male components, presenting a higher percentage. The other clusters, on the other hand, have a rather homogeneous percentage."
   ]
  },
  {
   "cell_type": "code",
   "execution_count": 76,
   "id": "a9eb5dac",
   "metadata": {},
   "outputs": [],
   "source": [
    "p_t[\"Low_utilisation\"] = round(df.groupby(\"cluster\")[\"utilisation\"].apply(lambda x: (x == 1).sum()/x.count()*100), 2)\n",
    "p_t[\"Middle_low_utilisation\"] = round(df.groupby(\"cluster\")[\"utilisation\"].apply(lambda x: (x == 2).sum()/x.count() * 100 ), 2)\n",
    "p_t[\"Middle_high_utilisation\"] = round(df.groupby(\"cluster\")[\"utilisation\"].apply(lambda x: (x == 3).sum()/x.count()*100), 2)\n",
    "p_t[\"High_utilisation\"] = round(df.groupby(\"cluster\")[\"utilisation\"].apply(lambda x:(x == 4).sum()/x.count()*100), 2)"
   ]
  },
  {
   "cell_type": "code",
   "execution_count": 77,
   "id": "d27dcdd9",
   "metadata": {},
   "outputs": [
    {
     "data": {
      "text/html": [
       "<div>\n",
       "<style scoped>\n",
       "    .dataframe tbody tr th:only-of-type {\n",
       "        vertical-align: middle;\n",
       "    }\n",
       "\n",
       "    .dataframe tbody tr th {\n",
       "        vertical-align: top;\n",
       "    }\n",
       "\n",
       "    .dataframe thead th {\n",
       "        text-align: right;\n",
       "    }\n",
       "</style>\n",
       "<table border=\"1\" class=\"dataframe\">\n",
       "  <thead>\n",
       "    <tr style=\"text-align: right;\">\n",
       "      <th></th>\n",
       "      <th>Low_utilisation</th>\n",
       "      <th>Middle_low_utilisation</th>\n",
       "      <th>Middle_high_utilisation</th>\n",
       "      <th>High_utilisation</th>\n",
       "    </tr>\n",
       "    <tr>\n",
       "      <th>cluster</th>\n",
       "      <th></th>\n",
       "      <th></th>\n",
       "      <th></th>\n",
       "      <th></th>\n",
       "    </tr>\n",
       "  </thead>\n",
       "  <tbody>\n",
       "    <tr>\n",
       "      <th>0</th>\n",
       "      <td>6.67</td>\n",
       "      <td>33.82</td>\n",
       "      <td>24.12</td>\n",
       "      <td>35.38</td>\n",
       "    </tr>\n",
       "    <tr>\n",
       "      <th>1</th>\n",
       "      <td>15.35</td>\n",
       "      <td>36.64</td>\n",
       "      <td>21.23</td>\n",
       "      <td>26.77</td>\n",
       "    </tr>\n",
       "    <tr>\n",
       "      <th>2</th>\n",
       "      <td>62.95</td>\n",
       "      <td>34.85</td>\n",
       "      <td>2.20</td>\n",
       "      <td>0.00</td>\n",
       "    </tr>\n",
       "    <tr>\n",
       "      <th>3</th>\n",
       "      <td>0.04</td>\n",
       "      <td>22.35</td>\n",
       "      <td>29.38</td>\n",
       "      <td>48.23</td>\n",
       "    </tr>\n",
       "  </tbody>\n",
       "</table>\n",
       "</div>"
      ],
      "text/plain": [
       "         Low_utilisation  Middle_low_utilisation  Middle_high_utilisation  \\\n",
       "cluster                                                                     \n",
       "0                   6.67                   33.82                    24.12   \n",
       "1                  15.35                   36.64                    21.23   \n",
       "2                  62.95                   34.85                     2.20   \n",
       "3                   0.04                   22.35                    29.38   \n",
       "\n",
       "         High_utilisation  \n",
       "cluster                    \n",
       "0                   35.38  \n",
       "1                   26.77  \n",
       "2                    0.00  \n",
       "3                   48.23  "
      ]
     },
     "execution_count": 77,
     "metadata": {},
     "output_type": "execute_result"
    }
   ],
   "source": [
    "p_t[[\"Low_utilisation\",\"Middle_low_utilisation\",\"Middle_high_utilisation\",\"High_utilisation\"]]"
   ]
  },
  {
   "cell_type": "markdown",
   "id": "d6a28577",
   "metadata": {},
   "source": [
    "Looking instead at the utilization pivot table, the clusters turn out to be better defined and heterogeneous: while the third cluster encompasses the elements of the lower-middle range of utilization, more than 70% of the members of the fourth cluster have a medium-high level of utilization. The first two clusters, on the other hand, are the average clusters most characterized by customers with an average level of utilization."
   ]
  },
  {
   "cell_type": "code",
   "execution_count": 78,
   "id": "a19765f6",
   "metadata": {},
   "outputs": [],
   "source": [
    "p_t[\"Low_transaction_amount\"] = round(df.groupby(\"cluster\")[\"Average_transaction_amount\"].apply(lambda x: (x == 1).sum()/x.count()*100), 2)\n",
    "p_t[\"Middle_low_transaction_amount\"] = round(df.groupby(\"cluster\")[\"Average_transaction_amount\"].apply(lambda x: (x == 2).sum()/x.count() * 100 ), 2)\n",
    "p_t[\"Middle_high_transaction_amount\"] = round(df.groupby(\"cluster\")[\"Average_transaction_amount\"].apply(lambda x: (x == 3).sum()/x.count()*100), 2)\n",
    "p_t[\"High_transaction_amount\"] = round(df.groupby(\"cluster\")[\"Average_transaction_amount\"].apply(lambda x:(x == 4).sum()/x.count()*100), 2)"
   ]
  },
  {
   "cell_type": "code",
   "execution_count": 79,
   "id": "952d67dc",
   "metadata": {},
   "outputs": [
    {
     "data": {
      "text/html": [
       "<div>\n",
       "<style scoped>\n",
       "    .dataframe tbody tr th:only-of-type {\n",
       "        vertical-align: middle;\n",
       "    }\n",
       "\n",
       "    .dataframe tbody tr th {\n",
       "        vertical-align: top;\n",
       "    }\n",
       "\n",
       "    .dataframe thead th {\n",
       "        text-align: right;\n",
       "    }\n",
       "</style>\n",
       "<table border=\"1\" class=\"dataframe\">\n",
       "  <thead>\n",
       "    <tr style=\"text-align: right;\">\n",
       "      <th></th>\n",
       "      <th>Low_transaction_amount</th>\n",
       "      <th>Middle_low_transaction_amount</th>\n",
       "      <th>Middle_high_transaction_amount</th>\n",
       "      <th>High_transaction_amount</th>\n",
       "    </tr>\n",
       "    <tr>\n",
       "      <th>cluster</th>\n",
       "      <th></th>\n",
       "      <th></th>\n",
       "      <th></th>\n",
       "      <th></th>\n",
       "    </tr>\n",
       "  </thead>\n",
       "  <tbody>\n",
       "    <tr>\n",
       "      <th>0</th>\n",
       "      <td>27.48</td>\n",
       "      <td>24.50</td>\n",
       "      <td>18.13</td>\n",
       "      <td>29.89</td>\n",
       "    </tr>\n",
       "    <tr>\n",
       "      <th>1</th>\n",
       "      <td>12.82</td>\n",
       "      <td>24.58</td>\n",
       "      <td>23.56</td>\n",
       "      <td>39.04</td>\n",
       "    </tr>\n",
       "    <tr>\n",
       "      <th>2</th>\n",
       "      <td>32.67</td>\n",
       "      <td>22.03</td>\n",
       "      <td>15.33</td>\n",
       "      <td>29.97</td>\n",
       "    </tr>\n",
       "    <tr>\n",
       "      <th>3</th>\n",
       "      <td>22.93</td>\n",
       "      <td>24.83</td>\n",
       "      <td>20.74</td>\n",
       "      <td>31.49</td>\n",
       "    </tr>\n",
       "  </tbody>\n",
       "</table>\n",
       "</div>"
      ],
      "text/plain": [
       "         Low_transaction_amount  Middle_low_transaction_amount  \\\n",
       "cluster                                                          \n",
       "0                         27.48                          24.50   \n",
       "1                         12.82                          24.58   \n",
       "2                         32.67                          22.03   \n",
       "3                         22.93                          24.83   \n",
       "\n",
       "         Middle_high_transaction_amount  High_transaction_amount  \n",
       "cluster                                                           \n",
       "0                                 18.13                    29.89  \n",
       "1                                 23.56                    39.04  \n",
       "2                                 15.33                    29.97  \n",
       "3                                 20.74                    31.49  "
      ]
     },
     "execution_count": 79,
     "metadata": {},
     "output_type": "execute_result"
    }
   ],
   "source": [
    "p_t[[\"Low_transaction_amount\",\"Middle_low_transaction_amount\",\"Middle_high_transaction_amount\",\"High_transaction_amount\"]]"
   ]
  },
  {
   "cell_type": "markdown",
   "id": "8f3f81b3",
   "metadata": {},
   "source": [
    "Looking at the transaction amount pivot table, it is interesting to note that the second cluster, the one with a higher percentage of male users, also turns out to have the highest average transactions."
   ]
  },
  {
   "cell_type": "code",
   "execution_count": 80,
   "id": "a6813a0a",
   "metadata": {},
   "outputs": [],
   "source": [
    "p_t[\"Low_n_transactions\"] = round(df.groupby(\"cluster\")[\"n_transactions\"].apply(lambda x: (x == 1).sum()/x.count()*100), 2)\n",
    "p_t[\"Middle_low_n_transactions\"] = round(df.groupby(\"cluster\")[\"n_transactions\"].apply(lambda x: (x == 2).sum()/x.count() * 100 ), 2)\n",
    "p_t[\"Middle_high_n_transactions\"] = round(df.groupby(\"cluster\")[\"n_transactions\"].apply(lambda x: (x == 3).sum()/x.count()*100), 2)\n",
    "p_t[\"High_n_transactions\"] = round(df.groupby(\"cluster\")[\"n_transactions\"].apply(lambda x:(x == 4).sum()/x.count()*100), 2)"
   ]
  },
  {
   "cell_type": "code",
   "execution_count": 81,
   "id": "0b2fc72f",
   "metadata": {},
   "outputs": [
    {
     "data": {
      "text/html": [
       "<div>\n",
       "<style scoped>\n",
       "    .dataframe tbody tr th:only-of-type {\n",
       "        vertical-align: middle;\n",
       "    }\n",
       "\n",
       "    .dataframe tbody tr th {\n",
       "        vertical-align: top;\n",
       "    }\n",
       "\n",
       "    .dataframe thead th {\n",
       "        text-align: right;\n",
       "    }\n",
       "</style>\n",
       "<table border=\"1\" class=\"dataframe\">\n",
       "  <thead>\n",
       "    <tr style=\"text-align: right;\">\n",
       "      <th></th>\n",
       "      <th>Low_n_transactions</th>\n",
       "      <th>Middle_low_n_transactions</th>\n",
       "      <th>Middle_high_n_transactions</th>\n",
       "      <th>High_n_transactions</th>\n",
       "    </tr>\n",
       "    <tr>\n",
       "      <th>cluster</th>\n",
       "      <th></th>\n",
       "      <th></th>\n",
       "      <th></th>\n",
       "      <th></th>\n",
       "    </tr>\n",
       "  </thead>\n",
       "  <tbody>\n",
       "    <tr>\n",
       "      <th>0</th>\n",
       "      <td>85.53</td>\n",
       "      <td>14.35</td>\n",
       "      <td>0.12</td>\n",
       "      <td>0.00</td>\n",
       "    </tr>\n",
       "    <tr>\n",
       "      <th>1</th>\n",
       "      <td>0.00</td>\n",
       "      <td>79.85</td>\n",
       "      <td>18.11</td>\n",
       "      <td>2.04</td>\n",
       "    </tr>\n",
       "    <tr>\n",
       "      <th>2</th>\n",
       "      <td>98.44</td>\n",
       "      <td>1.56</td>\n",
       "      <td>0.00</td>\n",
       "      <td>0.00</td>\n",
       "    </tr>\n",
       "    <tr>\n",
       "      <th>3</th>\n",
       "      <td>93.31</td>\n",
       "      <td>6.69</td>\n",
       "      <td>0.00</td>\n",
       "      <td>0.00</td>\n",
       "    </tr>\n",
       "  </tbody>\n",
       "</table>\n",
       "</div>"
      ],
      "text/plain": [
       "         Low_n_transactions  Middle_low_n_transactions  \\\n",
       "cluster                                                  \n",
       "0                     85.53                      14.35   \n",
       "1                      0.00                      79.85   \n",
       "2                     98.44                       1.56   \n",
       "3                     93.31                       6.69   \n",
       "\n",
       "         Middle_high_n_transactions  High_n_transactions  \n",
       "cluster                                                   \n",
       "0                              0.12                 0.00  \n",
       "1                             18.11                 2.04  \n",
       "2                              0.00                 0.00  \n",
       "3                              0.00                 0.00  "
      ]
     },
     "execution_count": 81,
     "metadata": {},
     "output_type": "execute_result"
    }
   ],
   "source": [
    "p_t[[\"Low_n_transactions\",\"Middle_low_n_transactions\",\"Middle_high_n_transactions\",\"High_n_transactions\"]]"
   ]
  },
  {
   "cell_type": "markdown",
   "id": "336cb4c3",
   "metadata": {},
   "source": [
    "A similar argument to the previous pivot table can be made by observing that of the number of transactions: the second cluster, in addition to being the one with a higher percentage of male components and a higher percentage of transaction amount, also turns out to be the cluster with the largest number of transactions executed as a percentage."
   ]
  }
 ],
 "metadata": {
  "kernelspec": {
   "display_name": "Python 3 (ipykernel)",
   "language": "python",
   "name": "python3"
  },
  "language_info": {
   "codemirror_mode": {
    "name": "ipython",
    "version": 3
   },
   "file_extension": ".py",
   "mimetype": "text/x-python",
   "name": "python",
   "nbconvert_exporter": "python",
   "pygments_lexer": "ipython3",
   "version": "3.8.13"
  }
 },
 "nbformat": 4,
 "nbformat_minor": 5
}
